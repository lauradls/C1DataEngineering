{
 "cells": [
  {
   "cell_type": "code",
   "execution_count": 2,
   "id": "d57f911f-f4cb-47fc-9b55-39096031570c",
   "metadata": {},
   "outputs": [],
   "source": [
    "# The different libraries and resources:\n",
    "\n",
    "import matplotlib.pyplot as plt\n",
    "import pandas as pd\n",
    "pd.set_option('display.float_format', lambda x: '{:.2f}'.format(x))"
   ]
  },
  {
   "cell_type": "code",
   "execution_count": 10,
   "id": "a3dddf31-876b-41d8-83ba-77c1f64a9251",
   "metadata": {},
   "outputs": [],
   "source": [
    "# Using note book to run code for the PPP Sources found in this site: https://data.sba.gov/dataset/ppp-foia\n",
    "\n",
    "# Read the CSV file and select specific columns\n",
    "file_path_view = \"./public_up_to_150k_1_230331.csv\"\n",
    "df_1 = pd.read_csv(file_path_view, usecols=['OriginatingLender', 'OriginatingLenderCity', 'OriginatingLenderState'])\n",
    "\n",
    "# Remove rows with NaN values\n",
    "df_1 = df_1.dropna()\n",
    "\n",
    "# Display the DataFrame\n",
    "df_1.head()\n",
    "\n",
    "# Export DataFrame to CSV\n",
    "file_path = \"data/dimLenderTable.csv\"\n",
    "df_1.to_csv(file_path, index=False)\n"
   ]
  },
  {
   "cell_type": "code",
   "execution_count": null,
   "id": "aa83a16b-dedf-40c3-9bee-16c7f24b9c86",
   "metadata": {},
   "outputs": [],
   "source": []
  }
 ],
 "metadata": {
  "kernelspec": {
   "display_name": "Python 3 (ipykernel)",
   "language": "python",
   "name": "python3"
  },
  "language_info": {
   "codemirror_mode": {
    "name": "ipython",
    "version": 3
   },
   "file_extension": ".py",
   "mimetype": "text/x-python",
   "name": "python",
   "nbconvert_exporter": "python",
   "pygments_lexer": "ipython3",
   "version": "3.10.11"
  }
 },
 "nbformat": 4,
 "nbformat_minor": 5
}
