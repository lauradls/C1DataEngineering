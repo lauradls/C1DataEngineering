{
 "cells": [
  {
   "cell_type": "code",
   "execution_count": 9,
   "id": "75f50662",
   "metadata": {},
   "outputs": [],
   "source": [
    "import csv\n",
    "from azure.storage.blob import BlobServiceClient\n",
    "import snowflake.connector"
   ]
  },
  {
   "cell_type": "code",
   "execution_count": 10,
   "id": "9395ba26",
   "metadata": {},
   "outputs": [],
   "source": [
    "# Azure Storage container details\n",
    "azure_storage_connection_string = 'DefaultEndpointsProtocol=https;AccountName=pppdatastorage;AccountKey=b4UhnaSHwcv1Tm7MNL0lYCaC6BLMh2T1A5EjU4fgHxltuPg2jCeIPZXgjcIDohKHjtKQe9Qegbso+ASto63eZA==;EndpointSuffix=core.windows.net'\n",
    "azure_storage_container = 'pppdata'"
   ]
  },
  {
   "cell_type": "code",
   "execution_count": 11,
   "id": "0ce49ba2",
   "metadata": {},
   "outputs": [],
   "source": [
    "# Snowflake connection details\n",
    "snowflake_account = ''\n",
    "snowflake_user = ''\n",
    "snowflake_password = ''\n",
    "snowflake_database = 'PPP_LOAN_DB'\n",
    "snowflake_schema = 'PPP_STAGING_DATA'\n",
    "snowflake_warehouse= 'The_PPP_Loan_Pro_WH'\n",
    "snowflake_table='LoanFact'\n"
   ]
  },
  {
   "cell_type": "code",
   "execution_count": 12,
   "id": "855ac705",
   "metadata": {},
   "outputs": [],
   "source": [
    "# Connect to Azure Storage\n",
    "blob_service_client = BlobServiceClient.from_connection_string(azure_storage_connection_string)\n",
    "container_client = blob_service_client.get_container_client(azure_storage_container)\n"
   ]
  },
  {
   "cell_type": "code",
   "execution_count": 13,
   "id": "1cc5c694",
   "metadata": {},
   "outputs": [],
   "source": [
    "# Download the CSV file from Azure Storage\n",
    "csv_file_name = 'CompleteLoan_Fact'\n",
    "\n",
    "blob_client = container_client.get_blob_client(csv_file_name)\n",
    "downloaded_blob = blob_client.download_blob()\n",
    "csv_data = downloaded_blob.content_as_text()\n",
    "\n",
    "# Convert CSV data to a list of dictionaries\n",
    "csv_data_lines = csv_data.split(\"\\n\")\n",
    "csv_reader = csv.DictReader(csv_data_lines)\n",
    "data = [dict(row) for row in csv_reader]\n",
    "#print(data)"
   ]
  },
  {
   "cell_type": "code",
   "execution_count": 14,
   "id": "7a4b15f3",
   "metadata": {},
   "outputs": [],
   "source": [
    "# Connect to Snowflake\n",
    "conn = snowflake.connector.connect(\n",
    "    user=snowflake_user,\n",
    "    password=snowflake_password,\n",
    "    account=snowflake_account,\n",
    "    database=snowflake_database,\n",
    "    schema=snowflake_schema,\n",
    "    warehouse=snowflake_warehouse\n",
    ")"
   ]
  },
  {
   "cell_type": "code",
   "execution_count": 15,
   "id": "f5b0254a",
   "metadata": {},
   "outputs": [
    {
     "data": {
      "text/plain": [
       "<snowflake.connector.cursor.SnowflakeCursor at 0x281041de280>"
      ]
     },
     "execution_count": 15,
     "metadata": {},
     "output_type": "execute_result"
    }
   ],
   "source": [
    "# Create a cursor to execute SQL statements\n",
    "cursor = conn.cursor()\n",
    "\n",
    "# Set the current schema\n",
    "set_schema_sql = f\"USE SCHEMA {snowflake_schema}\"\n",
    "cursor.execute(set_schema_sql)\n",
    "\n",
    "# Create a warehouse in Snowflake\n",
    "create_warehouse_sql = f'''\n",
    "    CREATE WAREHOUSE IF NOT EXISTS {snowflake_warehouse}\n",
    "    WITH WAREHOUSE_SIZE = 'X-Small'\n",
    "    AUTO_SUSPEND = 600\n",
    "    AUTO_RESUME = TRUE\n",
    "    COMMENT = 'The PPP Loan WH'\n",
    "'''\n",
    "cursor.execute(create_warehouse_sql)"
   ]
  },
  {
   "cell_type": "code",
   "execution_count": 16,
   "id": "64f3191b",
   "metadata": {},
   "outputs": [
    {
     "data": {
      "text/plain": [
       "<snowflake.connector.cursor.SnowflakeCursor at 0x281041de280>"
      ]
     },
     "execution_count": 16,
     "metadata": {},
     "output_type": "execute_result"
    }
   ],
   "source": [
    "# Commit the transaction\n",
    "conn.commit()\n",
    "\n",
    "# Create table in Snowflake\n",
    "create_table_sql = f\"CREATE TABLE {snowflake_table}(LoanID int, ForgivenessAmount float, InitialApprovalAmount float, CurrentApprovalAmount float, UndisbursedAmount float, LoanNumber int, SBAGuarantyPercentage float, ForgivenessDate VARCHAR,Forgivness_year VARCHAR,Forgiveness_month int,Forgiveness_day int,Forgiveness_quarter int,ForgivenessPK VARCHAR)\"\n",
    "cursor.execute(create_table_sql)"
   ]
  },
  {
   "cell_type": "code",
   "execution_count": null,
   "id": "0ef9575a",
   "metadata": {},
   "outputs": [],
   "source": [
    "# Insert CSV data from Azure into Snowflake table\n",
    "insert_sql = f\"INSERT INTO {snowflake_table} VALUES (%s, %s, %s,%s, %s, %s,%s, %s,%s,%s,%s,%s,%s)\"\n",
    "for row in data:\n",
    "    cursor.execute(insert_sql, (\n",
    "    row['LoanID'],\n",
    "    row['ForgivenessAmount'] if row['ForgivenessAmount'] != '' else None,\n",
    "    row['InitialApprovalAmount'] if row['InitialApprovalAmount'] != '' else None,\n",
    "    row['CurrentApprovalAmount'] if row['CurrentApprovalAmount'] != '' else None,\n",
    "    row['UndisbursedAmount'] if row['UndisbursedAmount'] != '' else None,\n",
    "    row['LoanNumber'],\n",
    "    row['SBAGuarantyPercentage'] if row['SBAGuarantyPercentage'] != '' else None,\n",
    "    row['ForgivenessDate'],\n",
    "    row['Forgivness_year'] if row['Forgivness_year'] != '' else None,\n",
    "    row['Forgiveness_month'] if row['Forgiveness_month'] != '' else None,\n",
    "    row['Forgiveness_day'] if row['Forgiveness_day'] != '' else None,\n",
    "    row['Forgiveness_quarter'] if row['Forgiveness_quarter'] != '' else None,\n",
    "    row['ForgivenessPK']\n",
    "))"
   ]
  },
  {
   "cell_type": "code",
   "execution_count": null,
   "id": "d796a71e",
   "metadata": {},
   "outputs": [],
   "source": [
    "# Commit the transaction\n",
    "conn.commit()\n",
    "\n",
    "# Close the cursor and connection\n",
    "cursor.close()\n",
    "conn.close()"
   ]
  }
 ],
 "metadata": {
  "kernelspec": {
   "display_name": "Python 3 (ipykernel)",
   "language": "python",
   "name": "python3"
  },
  "language_info": {
   "codemirror_mode": {
    "name": "ipython",
    "version": 3
   },
   "file_extension": ".py",
   "mimetype": "text/x-python",
   "name": "python",
   "nbconvert_exporter": "python",
   "pygments_lexer": "ipython3",
   "version": "3.9.9"
  }
 },
 "nbformat": 4,
 "nbformat_minor": 5
}
