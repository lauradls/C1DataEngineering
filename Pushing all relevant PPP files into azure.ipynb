{
 "cells": [
  {
   "cell_type": "code",
   "execution_count": 1,
   "id": "ac82c05e",
   "metadata": {},
   "outputs": [
    {
     "name": "stdout",
     "output_type": "stream",
     "text": [
      "Requirement already satisfied: azure-storage-blob in c:\\users\\18054\\anaconda3\\lib\\site-packages (12.16.0)\n",
      "Requirement already satisfied: isodate>=0.6.1 in c:\\users\\18054\\anaconda3\\lib\\site-packages (from azure-storage-blob) (0.6.1)\n",
      "Requirement already satisfied: typing-extensions>=4.0.1 in c:\\users\\18054\\anaconda3\\lib\\site-packages (from azure-storage-blob) (4.4.0)\n",
      "Requirement already satisfied: cryptography>=2.1.4 in c:\\users\\18054\\anaconda3\\lib\\site-packages (from azure-storage-blob) (39.0.1)\n",
      "Requirement already satisfied: azure-core<2.0.0,>=1.26.0 in c:\\users\\18054\\anaconda3\\lib\\site-packages (from azure-storage-blob) (1.26.4)\n",
      "Requirement already satisfied: six>=1.11.0 in c:\\users\\18054\\anaconda3\\lib\\site-packages (from azure-core<2.0.0,>=1.26.0->azure-storage-blob) (1.16.0)\n",
      "Requirement already satisfied: requests>=2.18.4 in c:\\users\\18054\\anaconda3\\lib\\site-packages (from azure-core<2.0.0,>=1.26.0->azure-storage-blob) (2.28.1)\n",
      "Requirement already satisfied: cffi>=1.12 in c:\\users\\18054\\anaconda3\\lib\\site-packages (from cryptography>=2.1.4->azure-storage-blob) (1.15.1)\n",
      "Requirement already satisfied: pycparser in c:\\users\\18054\\anaconda3\\lib\\site-packages (from cffi>=1.12->cryptography>=2.1.4->azure-storage-blob) (2.21)\n",
      "Requirement already satisfied: charset-normalizer<3,>=2 in c:\\users\\18054\\anaconda3\\lib\\site-packages (from requests>=2.18.4->azure-core<2.0.0,>=1.26.0->azure-storage-blob) (2.0.4)\n",
      "Requirement already satisfied: urllib3<1.27,>=1.21.1 in c:\\users\\18054\\anaconda3\\lib\\site-packages (from requests>=2.18.4->azure-core<2.0.0,>=1.26.0->azure-storage-blob) (1.26.14)\n",
      "Requirement already satisfied: idna<4,>=2.5 in c:\\users\\18054\\anaconda3\\lib\\site-packages (from requests>=2.18.4->azure-core<2.0.0,>=1.26.0->azure-storage-blob) (3.4)\n",
      "Requirement already satisfied: certifi>=2017.4.17 in c:\\users\\18054\\anaconda3\\lib\\site-packages (from requests>=2.18.4->azure-core<2.0.0,>=1.26.0->azure-storage-blob) (2022.12.7)\n"
     ]
    }
   ],
   "source": [
    "!pip install azure-storage-blob"
   ]
  },
  {
   "cell_type": "code",
   "execution_count": 2,
   "id": "2e1af47a",
   "metadata": {
    "scrolled": true
   },
   "outputs": [],
   "source": [
    "from azure.storage.blob import BlobServiceClient"
   ]
  },
  {
   "cell_type": "code",
   "execution_count": 6,
   "id": "235c1933",
   "metadata": {},
   "outputs": [],
   "source": [
    "##Converting xlsx file into csv \n",
    "\n",
    "import pandas as pd\n",
    "\n",
    "def converting_csv(input_file, output_file):\n",
    "    data = pd.read_excel(input_file)  # Read the XLSX file into a pandas DataFrame\n",
    "    data.to_csv(output_file, index=False, encoding='utf-8')  # Convert DataFrame to CSV and save it\n",
    "\n",
    "# Example usage\n",
    "input_file = 'C:/Users/18054/Desktop/DS4A/PPP Sources/naics2022.xlsx'  # Path to the input XLSX file\n",
    "output_file = 'C:/Users/18054/Desktop/DS4A/PPP Sources/naics2022.csv'  # Path to the output CSV file\n",
    "\n",
    "converting_csv(input_file, output_file)\n"
   ]
  },
  {
   "cell_type": "code",
   "execution_count": 7,
   "id": "fdacd4a8",
   "metadata": {},
   "outputs": [],
   "source": [
    "from azure.storage.blob import BlobServiceClient\n",
    "\n",
    "# Provide the storage account name and access key\n",
    "storage_account_name = \"pppdatastorage\"\n",
    "storage_account_key = \"GxfCUkzdffgiZEn4pTPmhauUAs6fEtQI0jxcUW06gH2Hi5I75FVpfbTuVBRIj20ymQqH63qSDhNe+AStQ0jG5A==\"\n",
    "\n",
    "# Connect to the storage account\n",
    "conn_str = f\"DefaultEndpointsProtocol=https;AccountName={storage_account_name};AccountKey={storage_account_key};EndpointSuffix=core.windows.net\"\n",
    "blob_service_client = BlobServiceClient.from_connection_string(conn_str)\n",
    "\n",
    "# Specify the container name\n",
    "container_name = \"pppdata\"\n",
    "\n",
    "# Create a reference to the storage container\n",
    "container_client = blob_service_client.get_container_client(container_name)\n",
    "\n",
    "# Upload multiple data files to the container\n",
    "file_paths = [\"C:/Users/18054/Desktop/DS4A/PPP Sources/naics2022.csv\", \"C:/Users/18054/Desktop/DS4A/PPP Sources/public_up_to_150k_1_230331.csv\"]  # Add more file paths as needed\n",
    "\n",
    "for file_path in file_paths:\n",
    "    # Extract the file name from the path\n",
    "    file_name = file_path.split(\"/\")[-1]\n",
    "\n",
    "    # Upload the file to the container\n",
    "    with open(file_path, \"rb\") as data:\n",
    "        container_client.upload_blob(name=file_name, data=data)\n"
   ]
  },
  {
   "cell_type": "code",
   "execution_count": 5,
   "id": "91ebaa08",
   "metadata": {},
   "outputs": [
    {
     "name": "stdout",
     "output_type": "stream",
     "text": [
      "Collecting PyPDF2\n",
      "  Downloading pypdf2-3.0.1-py3-none-any.whl (232 kB)\n",
      "     -------------------------------------- 232.6/232.6 kB 3.5 MB/s eta 0:00:00\n",
      "Requirement already satisfied: pandas in c:\\users\\18054\\anaconda3\\lib\\site-packages (1.5.3)\n",
      "Requirement already satisfied: pytz>=2020.1 in c:\\users\\18054\\anaconda3\\lib\\site-packages (from pandas) (2022.7)\n",
      "Requirement already satisfied: numpy>=1.21.0 in c:\\users\\18054\\anaconda3\\lib\\site-packages (from pandas) (1.23.5)\n",
      "Requirement already satisfied: python-dateutil>=2.8.1 in c:\\users\\18054\\anaconda3\\lib\\site-packages (from pandas) (2.8.2)\n",
      "Requirement already satisfied: six>=1.5 in c:\\users\\18054\\anaconda3\\lib\\site-packages (from python-dateutil>=2.8.1->pandas) (1.16.0)\n",
      "Installing collected packages: PyPDF2\n",
      "Successfully installed PyPDF2-3.0.1\n"
     ]
    }
   ],
   "source": [
    "## Web scraping specific datasets from SBA PPP report\n",
    "\n",
    "!pip install PyPDF2 pandas\n",
    "\n",
    "\n",
    "import PyPDF2\n",
    "import pandas as pd\n"
   ]
  },
  {
   "cell_type": "code",
   "execution_count": 7,
   "id": "c5caf314",
   "metadata": {
    "scrolled": true
   },
   "outputs": [
    {
     "name": "stdout",
     "output_type": "stream",
     "text": [
      "First page CSV created successfully.\n",
      "Second page CSV created successfully.\n"
     ]
    }
   ],
   "source": [
    "## Begining code to extract the Report into Csv files\n",
    "\n",
    "pdf_path = \"C:/Users/18054/Desktop/DS4A/PPP Sources/PPP_Report_Public_210531-508.pdf\"\n",
    "with open(pdf_path, \"rb\") as file:\n",
    "    pdf_reader = PyPDF2.PdfReader(file)\n",
    "    \n",
    "    \n",
    "    # Extract first page\n",
    "    page_number_1 = 6  # Replace with the actual page number of the first page\n",
    "    page_1 = pdf_reader.pages[page_number_1]\n",
    "    page_text_1 = page_1.extract_text()\n",
    "    table_rows_1 = page_text_1.split(\"\\n\")\n",
    "    table_data_1 = [row.split(\" \") for row in table_rows_1]\n",
    "    df_1 = pd.DataFrame(table_data_1)\n",
    "    csv_file_path_1 = \"C:/Users/18054/Desktop/DS4A/PPP Sources/PPPLenders.csv\"\n",
    "    df_1.to_csv(csv_file_path_1, index=False)\n",
    "    print(\"First page CSV created successfully.\")\n",
    "\n",
    "    # Extract second page\n",
    "    page_number_2 = 7  # Replace with the actual page number of the second page\n",
    "    page_2 = pdf_reader.pages[page_number_2]\n",
    "    page_text_2 = page_2.extract_text()\n",
    "    table_rows_2 = page_text_2.split(\"\\n\")\n",
    "    table_data_2 = [row.split(\" \") for row in table_rows_2]\n",
    "    df_2 = pd.DataFrame(table_data_2)\n",
    "    csv_file_path_2 = \"C:/Users/18054/Desktop/DS4A/PPP Sources/TopIndustry.csv\"\n",
    "    df_2.to_csv(csv_file_path_2, index=False)\n",
    "    print(\"Second page CSV created successfully.\")\n"
   ]
  },
  {
   "cell_type": "code",
   "execution_count": 24,
   "id": "31e32a07",
   "metadata": {
    "scrolled": true
   },
   "outputs": [
    {
     "name": "stdout",
     "output_type": "stream",
     "text": [
      "CSV file updated successfully.\n"
     ]
    }
   ],
   "source": [
    "# Read the CSV file\n",
    "csv_file_path = \"C:/Users/18054/Desktop/DS4A/PPP Sources/PPPLenders.csv\"\n",
    "df = pd.read_csv(csv_file_path, skiprows=2)\n",
    "\n",
    "# Read the second row as column names\n",
    "df.columns = pd.read_csv(csv_file_path, skiprows=2, nrows=1).columns\n",
    "\n",
    "# Combine specific columns for the first instance\n",
    "column1 = 'Lender'\n",
    "column2 = 'Name'\n",
    "column3 = 'Loans'\n",
    "combined_column = 'Lender Name'\n",
    "df[combined_column] = df[column1] + ' ' + df[column2] + ' ' + df[column3]\n",
    "\n",
    "# Combine specific columns for the second instance\n",
    "column1_2 = 'Average'\n",
    "column2_2 = 'Loan'\n",
    "column3_2 = 'Size'\n",
    "column_to_override = 'Dollars'\n",
    "df[column_to_override] = df[column1_2] + ' ' + df[column2_2] + ' ' + df[column3_2]\n",
    "\n",
    "# Combine specific columns for the third instance\n",
    "column1_3 = 'Loans'\n",
    "column2_3 = 'Approved'\n",
    "column_to_override = 'Loans'\n",
    "df[column_to_override] = df[column1_3] + ' ' + df[column2_3]\n",
    "\n",
    "# Combine specific columns for the fourth instance\n",
    "column1_4 = 'Net'\n",
    "column2_4 = 'Dollars'\n",
    "column_to_override = 'Net'\n",
    "df[column_to_override] = df[column1_4] + ' ' + df[column2_4]\n",
    "\n",
    "# Save the updated DataFrame to the CSV file with index\n",
    "df.to_csv(csv_file_path, index=False)\n",
    "print(\"CSV file updated successfully.\")"
   ]
  },
  {
   "cell_type": "markdown",
   "id": "aa4515a6",
   "metadata": {},
   "source": [
    "## 2nd Push"
   ]
  },
  {
   "cell_type": "code",
   "execution_count": 26,
   "id": "89e3ba77",
   "metadata": {},
   "outputs": [],
   "source": [
    "from azure.storage.blob import BlobServiceClient\n",
    "\n",
    "# Provide the storage account name and access key\n",
    "storage_account_name = \"pppdatastorage\"\n",
    "storage_account_key = \"GxfCUkzdffgiZEn4pTPmhauUAs6fEtQI0jxcUW06gH2Hi5I75FVpfbTuVBRIj20ymQqH63qSDhNe+AStQ0jG5A==\"\n",
    "\n",
    "# Connect to the storage account\n",
    "conn_str = f\"DefaultEndpointsProtocol=https;AccountName={storage_account_name};AccountKey={storage_account_key};EndpointSuffix=core.windows.net\"\n",
    "blob_service_client = BlobServiceClient.from_connection_string(conn_str)\n",
    "\n",
    "# Specify the container name\n",
    "container_name = \"pppdata\"\n",
    "\n",
    "# Create a reference to the storage container\n",
    "container_client = blob_service_client.get_container_client(container_name)\n",
    "\n",
    "file_paths2 = [\"C:/Users/18054/Desktop/DS4A/PPP Sources/public_up_to_150k_4_230331.csv\",\"C:/Users/18054/Desktop/DS4A/PPP Sources/public_up_to_150k_8_230331.csv\", \"C:/Users/18054/Desktop/DS4A/Reviewing_PPP.ipynb\",\"C:/Users/18054/Desktop/DS4A/PPP Sources/PPPLenders.csv\"]  # Add more file paths as needed\n",
    "\n",
    "for file_path in file_paths2:\n",
    "    # Extract the file name from the path\n",
    "    file_name = file_path.split(\"/\")[-1]\n",
    "\n",
    "    # Upload the file to the container\n",
    "    with open(file_path, \"rb\") as data:\n",
    "        container_client.upload_blob(name=file_name, data=data)"
   ]
  },
  {
   "cell_type": "markdown",
   "id": "12088858",
   "metadata": {},
   "source": [
    "## 3rd Push"
   ]
  },
  {
   "cell_type": "code",
   "execution_count": 10,
   "id": "ca497036",
   "metadata": {},
   "outputs": [],
   "source": [
    "import os\n",
    "from azure.core.exceptions import ResourceExistsError\n",
    "from azure.storage.blob import BlobServiceClient"
   ]
  },
  {
   "cell_type": "code",
   "execution_count": 12,
   "id": "9cb74370",
   "metadata": {},
   "outputs": [
    {
     "name": "stdout",
     "output_type": "stream",
     "text": [
      "Upload successful for file: C:/Users/18054/Desktop/DS4A/PPP Sources/Banks Balance Sheet 2020.csv\n",
      "Upload successful for file: C:/Users/18054/Desktop/DS4A/PPP Sources/FDIC_High_Level_Bank_Data_2020.csv\n",
      "Upload successful for file: C:/Users/18054/Desktop/DS4A/PPP Sources/JPMC Stock Price_Jan2020-Dec2020.csv\n",
      "Upload successful for file: C:/Users/18054/Desktop/DS4A/PPP Sources/MorganStanley_Stock_Jan2020-Dec2020.csv\n",
      "Upload successful for file: C:/Users/18054/Desktop/DS4A/PPP Sources/NAICS_2017_Codes.csv\n",
      "Upload successful for file: C:/Users/18054/Desktop/DS4A/PPP Sources/NAICS_2022_Codes.csv\n"
     ]
    }
   ],
   "source": [
    "from azure.storage.blob import BlobServiceClient\n",
    "\n",
    "# Info from Berzaf\n",
    "account_name = \"pppdatastorage\"\n",
    "account_key = \"GxfCUkzdffgiZEn4pTPmhauUAs6fEtQI0jxcUW06gH2Hi5I75FVpfbTuVBRIj20ymQqH63qSDhNe+AStQ0jG5A==\"\n",
    "container_name = \"pppdata\"\n",
    "\n",
    "file_paths3 = [\"C:/Users/18054/Desktop/DS4A/PPP Sources/Banks Balance Sheet 2020.csv\",\"C:/Users/18054/Desktop/DS4A/PPP Sources/FDIC_High_Level_Bank_Data_2020.csv\", \"C:/Users/18054/Desktop/DS4A/PPP Sources/JPMC Stock Price_Jan2020-Dec2020.csv\",\"C:/Users/18054/Desktop/DS4A/PPP Sources/MorganStanley_Stock_Jan2020-Dec2020.csv\",\"C:/Users/18054/Desktop/DS4A/PPP Sources/NAICS_2017_Codes.csv\",\"C:/Users/18054/Desktop/DS4A/PPP Sources/NAICS_2022_Codes.csv\"]  # Add more file paths as needed\n",
    "\n",
    "\n",
    "\n",
    "blob_service_client = BlobServiceClient(account_url=f\"https://{account_name}.blob.core.windows.net\", credential=account_key)\n",
    "container_client = blob_service_client.get_container_client(container_name)\n",
    "\n",
    "for file_path in file_paths3:\n",
    "    blob_name = os.path.splitext(os.path.basename(file_path))[0]\n",
    "    with open(file_path, \"rb\") as data:\n",
    "        blob_client = container_client.get_blob_client(blob_name)\n",
    "        try:\n",
    "            blob_client.upload_blob(data, overwrite=True)\n",
    "            print(f\"Upload successful for file: {file_path}\")\n",
    "        except ResourceExistsError:\n",
    "            print(f\"Blob already exists for file: {file_path}. Skipped upload.\")\n",
    "        except Exception as e:\n",
    "            print(f\"An error occurred during the upload of file: {file_path}\")\n",
    "            print(str(e))"
   ]
  },
  {
   "cell_type": "code",
   "execution_count": 13,
   "id": "dd42d065",
   "metadata": {},
   "outputs": [
    {
     "name": "stdout",
     "output_type": "stream",
     "text": [
      "Banks Balance Sheet 2020\n",
      "Banks Balance Sheet 2020.csv\n",
      "C:/Users/18054/Desktop/DS4A/PPP Sources/Banks Balance Sheet 2020.csv\n",
      "C:/Users/18054/Desktop/DS4A/PPP Sources/FDIC_High_Level_Bank_Data_2020.csv\n",
      "C:/Users/18054/Desktop/DS4A/PPP Sources/JPMC Stock Price_Jan2020-Dec2020.csv\n",
      "C:/Users/18054/Desktop/DS4A/PPP Sources/MorganStanley_Stock_Jan2020-Dec2020.csv\n",
      "FDIC_High_Level_Bank_Data_2020\n",
      "FDIC_High_Level_Bank_Data_2020.csv\n",
      "Financials_L1_formatted_Q1_20200331.csv\n",
      "Financials_L1_formatted_Q2_20200630.csv\n",
      "Financials_L1_formatted_Q3_20200930.csv\n",
      "Financials_L1_formatted_Q4_20201231.csv\n",
      "JPMC Stock Price_Jan2020-Dec2020\n",
      "MorganStanley_Stock_Jan2020-Dec2020\n",
      "NAICS_2017_Codes\n",
      "NAICS_2022_Codes\n",
      "PPPLenders.csv\n",
      "Reviewing_PPP.ipynb\n",
      "naics2022.csv\n",
      "public_150k_plus_230331.csv\n",
      "public_up_to_150k_1_230331.csv\n",
      "public_up_to_150k_4_230331.csv\n",
      "public_up_to_150k_8_230331.csv\n"
     ]
    }
   ],
   "source": [
    "from azure.storage.blob import BlobServiceClient\n",
    "\n",
    "account_name = \"pppdatastorage\"\n",
    "account_key = \"GxfCUkzdffgiZEn4pTPmhauUAs6fEtQI0jxcUW06gH2Hi5I75FVpfbTuVBRIj20ymQqH63qSDhNe+AStQ0jG5A==\"\n",
    "container_name = \"pppdata\"\n",
    "\n",
    "blob_service_client = BlobServiceClient(account_url=f\"https://{account_name}.blob.core.windows.net\", credential=account_key)\n",
    "container_client = blob_service_client.get_container_client(container_name)\n",
    "\n",
    "blobs = container_client.list_blobs()\n",
    "for blob in blobs:\n",
    "    print(blob.name)\n"
   ]
  },
  {
   "cell_type": "code",
   "execution_count": 17,
   "id": "a2f9f1f4",
   "metadata": {},
   "outputs": [],
   "source": [
    "## Updating blob names that showed up as a file path\n",
    "\n",
    "from azure.storage.blob import BlobServiceClient\n",
    "\n",
    "account_name = \"pppdatastorage\"\n",
    "account_key = \"GxfCUkzdffgiZEn4pTPmhauUAs6fEtQI0jxcUW06gH2Hi5I75FVpfbTuVBRIj20ymQqH63qSDhNe+AStQ0jG5A==\"\n",
    "container_name = \"pppdata\"\n",
    "\n",
    "existing_blob_names = [\"C:/Users/18054/Desktop/DS4A/PPP Sources/Banks Balance Sheet 2020.csv\", \"C:/Users/18054/Desktop/DS4A/PPP Sources/FDIC_High_Level_Bank_Data_2020.csv\", \"C:/Users/18054/Desktop/DS4A/PPP Sources/JPMC Stock Price_Jan2020-Dec2020.csv\", \"C:/Users/18054/Desktop/DS4A/PPP Sources/MorganStanley_Stock_Jan2020-Dec2020.csv\"]\n",
    "new_blob_names = [\"Banks Balance Sheet 2020.csv\", \"FDIC_High_Level_Bank_Data_2020.csv\", \"JPMC Stock Price_Jan2020-Dec2020.csv\", \"MorganStanley_Stock_Jan2020-Dec2020.csv\"]\n",
    "\n",
    "blob_service_client = BlobServiceClient(account_url=f\"https://{account_name}.blob.core.windows.net\", credential=account_key)\n",
    "container_client = blob_service_client.get_container_client(container_name)\n",
    "\n",
    "for existing_blob_name, new_blob_name in zip(existing_blob_names, new_blob_names):\n",
    "    source_blob_client = container_client.get_blob_client(existing_blob_name)\n",
    "    destination_blob_client = container_client.get_blob_client(new_blob_name)\n",
    "\n",
    "    destination_blob_client.start_copy_from_url(source_blob_client.url)\n",
    "\n",
    "\n",
    "    copy_status = destination_blob_client.get_blob_properties().copy.status\n",
    "    while copy_status == \"pending\":\n",
    "        copy_status = destination_blob_client.get_blob_properties().copy.status\n",
    "\n",
    "    if copy_status == \"success\":\n",
    "        source_blob_client.delete_blob()"
   ]
  },
  {
   "cell_type": "code",
   "execution_count": 18,
   "id": "6487534f",
   "metadata": {},
   "outputs": [
    {
     "name": "stdout",
     "output_type": "stream",
     "text": [
      "Banks Balance Sheet 2020\n",
      "Banks Balance Sheet 2020.csv\n",
      "FDIC_High_Level_Bank_Data_2020\n",
      "FDIC_High_Level_Bank_Data_2020.csv\n",
      "Financials_L1_formatted_Q1_20200331.csv\n",
      "Financials_L1_formatted_Q2_20200630.csv\n",
      "Financials_L1_formatted_Q3_20200930.csv\n",
      "Financials_L1_formatted_Q4_20201231.csv\n",
      "JPMC Stock Price_Jan2020-Dec2020\n",
      "JPMC Stock Price_Jan2020-Dec2020.csv\n",
      "MorganStanley_Stock_Jan2020-Dec2020\n",
      "MorganStanley_Stock_Jan2020-Dec2020.csv\n",
      "NAICS_2017_Codes\n",
      "NAICS_2022_Codes\n",
      "PPPLenders.csv\n",
      "Reviewing_PPP.ipynb\n",
      "naics2022.csv\n",
      "public_150k_plus_230331.csv\n",
      "public_up_to_150k_1_230331.csv\n",
      "public_up_to_150k_4_230331.csv\n",
      "public_up_to_150k_8_230331.csv\n"
     ]
    }
   ],
   "source": [
    "from azure.storage.blob import BlobServiceClient\n",
    "\n",
    "account_name = \"pppdatastorage\"\n",
    "account_key = \"GxfCUkzdffgiZEn4pTPmhauUAs6fEtQI0jxcUW06gH2Hi5I75FVpfbTuVBRIj20ymQqH63qSDhNe+AStQ0jG5A==\"\n",
    "container_name = \"pppdata\"\n",
    "\n",
    "blob_service_client = BlobServiceClient(account_url=f\"https://{account_name}.blob.core.windows.net\", credential=account_key)\n",
    "container_client = blob_service_client.get_container_client(container_name)\n",
    "\n",
    "blobs = container_client.list_blobs()\n",
    "for blob in blobs:\n",
    "    print(blob.name)"
   ]
  },
  {
   "cell_type": "markdown",
   "id": "91e670a1",
   "metadata": {},
   "source": [
    "## Fourth Push"
   ]
  },
  {
   "cell_type": "code",
   "execution_count": 3,
   "id": "935f4f96",
   "metadata": {},
   "outputs": [],
   "source": [
    "import os\n",
    "from azure.core.exceptions import ResourceExistsError\n",
    "from azure.storage.blob import BlobServiceClient"
   ]
  },
  {
   "cell_type": "code",
   "execution_count": null,
   "id": "28641a40",
   "metadata": {},
   "outputs": [],
   "source": [
    "from azure.storage.blob import BlobServiceClient\n",
    "\n",
    "# Info from Berzaf\n",
    "account_name = \"pppdatastorage\"\n",
    "account_key = \"GxfCUkzdffgiZEn4pTPmhauUAs6fEtQI0jxcUW06gH2Hi5I75FVpfbTuVBRIj20ymQqH63qSDhNe+AStQ0jG5A==\"\n",
    "container_name = \"pppdata\"\n",
    "\n",
    "file_paths3 = [\"C:/Users/18054/Desktop/DS4A/PPP Sources/Banks Balance Sheet 2020.csv\",\"C:/Users/18054/Desktop/DS4A/PPP Sources/FDIC_High_Level_Bank_Data_2020.csv\", \"C:/Users/18054/Desktop/DS4A/PPP Sources/JPMC Stock Price_Jan2020-Dec2020.csv\",\"C:/Users/18054/Desktop/DS4A/PPP Sources/MorganStanley_Stock_Jan2020-Dec2020.csv\",\"C:/Users/18054/Desktop/DS4A/PPP Sources/NAICS_2017_Codes.csv\",\"C:/Users/18054/Desktop/DS4A/PPP Sources/NAICS_2022_Codes.csv\"]  # Add more file paths as needed\n",
    "\n",
    "\n",
    "\n",
    "blob_service_client = BlobServiceClient(account_url=f\"https://{account_name}.blob.core.windows.net\", credential=account_key)\n",
    "container_client = blob_service_client.get_container_client(container_name)\n",
    "\n",
    "for file_path in file_paths3:\n",
    "    blob_name = os.path.splitext(os.path.basename(file_path))[0]\n",
    "    with open(file_path, \"rb\") as data:\n",
    "        blob_client = container_client.get_blob_client(blob_name)\n",
    "        try:\n",
    "            blob_client.upload_blob(data, overwrite=True)\n",
    "            print(f\"Upload successful for file: {file_path}\")\n",
    "        except ResourceExistsError:\n",
    "            print(f\"Blob already exists for file: {file_path}. Skipped upload.\")\n",
    "        except Exception as e:\n",
    "            print(f\"An error occurred during the upload of file: {file_path}\")\n",
    "            print(str(e))"
   ]
  },
  {
   "cell_type": "markdown",
   "id": "9b52a6b6",
   "metadata": {},
   "source": [
    "# 5th Push"
   ]
  },
  {
   "cell_type": "code",
   "execution_count": 1,
   "id": "8ac195a3",
   "metadata": {},
   "outputs": [],
   "source": [
    "import os\n",
    "from azure.core.exceptions import ResourceExistsError\n",
    "from azure.storage.blob import BlobServiceClient"
   ]
  },
  {
   "cell_type": "code",
   "execution_count": 3,
   "id": "6bc42a84",
   "metadata": {},
   "outputs": [],
   "source": [
    "import pandas as pd\n",
    "\n",
    "# Read the Excel file\n",
    "xls = pd.ExcelFile('C:/Users/18054/Desktop/DS4A/PPP Sources/Banks Balance Sheet 2020.xlsx')\n",
    "\n",
    "# Iterate over each sheet and save as CSV\n",
    "for sheet_name in xls.sheet_names:\n",
    "    df = xls.parse(sheet_name)\n",
    "    csv_filename = f\"C:/Users/18054/Desktop/DS4A/PPP Sources/{sheet_name}.csv\"\n",
    "    df.to_csv(csv_filename, index=False)"
   ]
  },
  {
   "cell_type": "code",
   "execution_count": null,
   "id": "bc26fb25",
   "metadata": {},
   "outputs": [],
   "source": []
  },
  {
   "cell_type": "code",
   "execution_count": 5,
   "id": "e60b93c8",
   "metadata": {},
   "outputs": [
    {
     "name": "stdout",
     "output_type": "stream",
     "text": [
      "Upload successful for file: C:/Users/18054/Desktop/DS4A/PPP Sources/BAC Stock Price_Jan2020-Dec2020.csv\n",
      "Upload successful for file: C:/Users/18054/Desktop/DS4A/PPP Sources/C-Citi Stock Price_Jan2020-Dec2020.csv\n",
      "Upload successful for file: C:/Users/18054/Desktop/DS4A/PPP Sources/Morgan Stanley_Stock_Jan2020-Dec2020.csv\n",
      "Upload successful for file: C:/Users/18054/Desktop/DS4A/PPP Sources/TDStock Price_Jan2020-Dec2020.csv\n",
      "Upload successful for file: C:/Users/18054/Desktop/DS4A/PPP Sources/WFC Stock Price_Jan2020-Dec2020.csv\n",
      "Upload successful for file: C:/Users/18054/Desktop/DS4A/PPP Sources/CompleteLoan_Fact.csv\n",
      "Upload successful for file: C:/Users/18054/Desktop/DS4A/PPP Sources/CompleteBorrower_Fact.csv\n"
     ]
    },
    {
     "ename": "FileNotFoundError",
     "evalue": "[Errno 2] No such file or directory: 'C:/Users/18054/Desktop/DS4A/PPP Sources/Banks Balance Sheet 2020'",
     "output_type": "error",
     "traceback": [
      "\u001b[1;31m---------------------------------------------------------------------------\u001b[0m",
      "\u001b[1;31mFileNotFoundError\u001b[0m                         Traceback (most recent call last)",
      "Cell \u001b[1;32mIn[5], line 15\u001b[0m\n\u001b[0;32m     13\u001b[0m \u001b[38;5;28;01mfor\u001b[39;00m file_path \u001b[38;5;129;01min\u001b[39;00m file_paths4:\n\u001b[0;32m     14\u001b[0m     blob_name \u001b[38;5;241m=\u001b[39m os\u001b[38;5;241m.\u001b[39mpath\u001b[38;5;241m.\u001b[39msplitext(os\u001b[38;5;241m.\u001b[39mpath\u001b[38;5;241m.\u001b[39mbasename(file_path))[\u001b[38;5;241m0\u001b[39m]\n\u001b[1;32m---> 15\u001b[0m     \u001b[38;5;28;01mwith\u001b[39;00m \u001b[38;5;28;43mopen\u001b[39;49m\u001b[43m(\u001b[49m\u001b[43mfile_path\u001b[49m\u001b[43m,\u001b[49m\u001b[43m \u001b[49m\u001b[38;5;124;43m\"\u001b[39;49m\u001b[38;5;124;43mrb\u001b[39;49m\u001b[38;5;124;43m\"\u001b[39;49m\u001b[43m)\u001b[49m \u001b[38;5;28;01mas\u001b[39;00m data:\n\u001b[0;32m     16\u001b[0m         blob_client \u001b[38;5;241m=\u001b[39m container_client\u001b[38;5;241m.\u001b[39mget_blob_client(blob_name)\n\u001b[0;32m     17\u001b[0m         \u001b[38;5;28;01mtry\u001b[39;00m:\n",
      "File \u001b[1;32m~\\anaconda3\\lib\\site-packages\\IPython\\core\\interactiveshell.py:282\u001b[0m, in \u001b[0;36m_modified_open\u001b[1;34m(file, *args, **kwargs)\u001b[0m\n\u001b[0;32m    275\u001b[0m \u001b[38;5;28;01mif\u001b[39;00m file \u001b[38;5;129;01min\u001b[39;00m {\u001b[38;5;241m0\u001b[39m, \u001b[38;5;241m1\u001b[39m, \u001b[38;5;241m2\u001b[39m}:\n\u001b[0;32m    276\u001b[0m     \u001b[38;5;28;01mraise\u001b[39;00m \u001b[38;5;167;01mValueError\u001b[39;00m(\n\u001b[0;32m    277\u001b[0m         \u001b[38;5;124mf\u001b[39m\u001b[38;5;124m\"\u001b[39m\u001b[38;5;124mIPython won\u001b[39m\u001b[38;5;124m'\u001b[39m\u001b[38;5;124mt let you open fd=\u001b[39m\u001b[38;5;132;01m{\u001b[39;00mfile\u001b[38;5;132;01m}\u001b[39;00m\u001b[38;5;124m by default \u001b[39m\u001b[38;5;124m\"\u001b[39m\n\u001b[0;32m    278\u001b[0m         \u001b[38;5;124m\"\u001b[39m\u001b[38;5;124mas it is likely to crash IPython. If you know what you are doing, \u001b[39m\u001b[38;5;124m\"\u001b[39m\n\u001b[0;32m    279\u001b[0m         \u001b[38;5;124m\"\u001b[39m\u001b[38;5;124myou can use builtins\u001b[39m\u001b[38;5;124m'\u001b[39m\u001b[38;5;124m open.\u001b[39m\u001b[38;5;124m\"\u001b[39m\n\u001b[0;32m    280\u001b[0m     )\n\u001b[1;32m--> 282\u001b[0m \u001b[38;5;28;01mreturn\u001b[39;00m io_open(file, \u001b[38;5;241m*\u001b[39margs, \u001b[38;5;241m*\u001b[39m\u001b[38;5;241m*\u001b[39mkwargs)\n",
      "\u001b[1;31mFileNotFoundError\u001b[0m: [Errno 2] No such file or directory: 'C:/Users/18054/Desktop/DS4A/PPP Sources/Banks Balance Sheet 2020'"
     ]
    }
   ],
   "source": [
    "# Info from Berzaf\n",
    "account_name = \"pppdatastorage\"\n",
    "account_key = \"GxfCUkzdffgiZEn4pTPmhauUAs6fEtQI0jxcUW06gH2Hi5I75FVpfbTuVBRIj20ymQqH63qSDhNe+AStQ0jG5A==\"\n",
    "container_name = \"pppdata\"\n",
    "\n",
    "file_paths4 = [\"C:/Users/18054/Desktop/DS4A/PPP Sources/BAC Stock Price_Jan2020-Dec2020.csv\", \"C:/Users/18054/Desktop/DS4A/PPP Sources/C-Citi Stock Price_Jan2020-Dec2020.csv\", \"C:/Users/18054/Desktop/DS4A/PPP Sources/Morgan Stanley_Stock_Jan2020-Dec2020.csv\", \"C:/Users/18054/Desktop/DS4A/PPP Sources/TDStock Price_Jan2020-Dec2020.csv\", \"C:/Users/18054/Desktop/DS4A/PPP Sources/WFC Stock Price_Jan2020-Dec2020.csv\", \"C:/Users/18054/Desktop/DS4A/PPP Sources/CompleteLoan_Fact.csv\", \"C:/Users/18054/Desktop/DS4A/PPP Sources/CompleteBorrower_Fact.csv\",\"C:/Users/18054/Desktop/DS4A/PPP Sources/Banks Balance Sheet 2020\"]  # Add more file paths as needed\n",
    "\n",
    "\n",
    "\n",
    "blob_service_client = BlobServiceClient(account_url=f\"https://{account_name}.blob.core.windows.net\", credential=account_key)\n",
    "container_client = blob_service_client.get_container_client(container_name)\n",
    "\n",
    "for file_path in file_paths4:\n",
    "    blob_name = os.path.splitext(os.path.basename(file_path))[0]\n",
    "    with open(file_path, \"rb\") as data:\n",
    "        blob_client = container_client.get_blob_client(blob_name)\n",
    "        try:\n",
    "            blob_client.upload_blob(data, overwrite=True)\n",
    "            print(f\"Upload successful for file: {file_path}\")\n",
    "        except ResourceExistsError:\n",
    "            print(f\"Blob already exists for file: {file_path}. Skipped upload.\")\n",
    "        except Exception as e:\n",
    "            print(f\"An error occurred during the upload of file: {file_path}\")\n",
    "            print(str(e))"
   ]
  },
  {
   "cell_type": "markdown",
   "id": "e90a698b",
   "metadata": {},
   "source": [
    "## 6th push"
   ]
  },
  {
   "cell_type": "code",
   "execution_count": 3,
   "id": "0394d748",
   "metadata": {},
   "outputs": [],
   "source": [
    "import os\n",
    "from azure.core.exceptions import ResourceExistsError\n",
    "from azure.storage.blob import BlobServiceClient"
   ]
  },
  {
   "cell_type": "code",
   "execution_count": 4,
   "id": "b5eae33f",
   "metadata": {},
   "outputs": [
    {
     "name": "stdout",
     "output_type": "stream",
     "text": [
      "Upload successful for file: C:/Users/18054/Desktop/DS4A/PPP Sources/CompleteLoan_Fact.csv\n",
      "Upload successful for file: C:/Users/18054/Desktop/DS4A/PPP Sources/CompleteBorrower_Fact.csv\n",
      "Upload successful for file: C:/Users/18054/Desktop/DS4A/PPP Sources/AllBanksPPP.csv\n"
     ]
    }
   ],
   "source": [
    "# Info from Berzaf\n",
    "account_name = \"pppdatastorage\"\n",
    "account_key = \"GxfCUkzdffgiZEn4pTPmhauUAs6fEtQI0jxcUW06gH2Hi5I75FVpfbTuVBRIj20ymQqH63qSDhNe+AStQ0jG5A==\"\n",
    "container_name = \"pppdata\"\n",
    "\n",
    "file_paths5 = [\"C:/Users/18054/Desktop/DS4A/PPP Sources/CompleteLoan_Fact.csv\", \"C:/Users/18054/Desktop/DS4A/PPP Sources/CompleteBorrower_Fact.csv\",\"C:/Users/18054/Desktop/DS4A/PPP Sources/AllBanksPPP.csv\"]  # Add more file paths as needed\n",
    "\n",
    "\n",
    "\n",
    "blob_service_client = BlobServiceClient(account_url=f\"https://{account_name}.blob.core.windows.net\", credential=account_key)\n",
    "container_client = blob_service_client.get_container_client(container_name)\n",
    "\n",
    "for file_path in file_paths5:\n",
    "    blob_name = os.path.splitext(os.path.basename(file_path))[0]\n",
    "    with open(file_path, \"rb\") as data:\n",
    "        blob_client = container_client.get_blob_client(blob_name)\n",
    "        try:\n",
    "            blob_client.upload_blob(data, overwrite=True)\n",
    "            print(f\"Upload successful for file: {file_path}\")\n",
    "        except ResourceExistsError:\n",
    "            print(f\"Blob already exists for file: {file_path}. Skipped upload.\")\n",
    "        except Exception as e:\n",
    "            print(f\"An error occurred during the upload of file: {file_path}\")\n",
    "            print(str(e))"
   ]
  },
  {
   "cell_type": "markdown",
   "id": "649db891",
   "metadata": {},
   "source": [
    "## 7 Push"
   ]
  },
  {
   "cell_type": "code",
   "execution_count": 1,
   "id": "10447a26",
   "metadata": {},
   "outputs": [],
   "source": [
    "import os\n",
    "from azure.core.exceptions import ResourceExistsError\n",
    "from azure.storage.blob import BlobServiceClient"
   ]
  },
  {
   "cell_type": "code",
   "execution_count": 2,
   "id": "677dc0ec",
   "metadata": {},
   "outputs": [
    {
     "name": "stdout",
     "output_type": "stream",
     "text": [
      "Upload successful for file: C:/Users/18054/Desktop/DS4A/PPP Sources/CompleteLoan_Fact.csv\n",
      "Upload successful for file: C:/Users/18054/Desktop/DS4A/PPP Sources/CompleteBorrower_Fact.csv\n",
      "Upload successful for file: C:/Users/18054/Desktop/DS4A/PPP Sources/CompleteBorrower_Fact.csv\n"
     ]
    },
    {
     "name": "stderr",
     "output_type": "stream",
     "text": [
      "\n",
      "KeyboardInterrupt\n",
      "\n"
     ]
    }
   ],
   "source": [
    "# Info from Berzaf\n",
    "account_name = \"pppdatastorage\"\n",
    "account_key = \"GxfCUkzdffgiZEn4pTPmhauUAs6fEtQI0jxcUW06gH2Hi5I75FVpfbTuVBRIj20ymQqH63qSDhNe+AStQ0jG5A==\"\n",
    "container_name = \"pppdata\"\n",
    "\n",
    "file_paths6 = [\"C:/Users/18054/Desktop/DS4A/PPP Sources/CompleteLoan_Fact.csv\", \"C:/Users/18054/Desktop/DS4A/PPP Sources/CompleteBorrower_Fact.csv\",\"C:/Users/18054/Desktop/DS4A/PPP Sources/CompleteBorrower_Fact.csv\",\"C:/Users/18054/Desktop/DS4A/PPP Sources/AllBanksPPP.csv\"]  # Add more file paths as needed\n",
    "\n",
    "\n",
    "\n",
    "blob_service_client = BlobServiceClient(account_url=f\"https://{account_name}.blob.core.windows.net\", credential=account_key)\n",
    "container_client = blob_service_client.get_container_client(container_name)\n",
    "\n",
    "for file_path in file_paths6:\n",
    "    blob_name = os.path.splitext(os.path.basename(file_path))[0]\n",
    "    with open(file_path, \"rb\") as data:\n",
    "        blob_client = container_client.get_blob_client(blob_name)\n",
    "        try:\n",
    "            blob_client.upload_blob(data, overwrite=True)\n",
    "            print(f\"Upload successful for file: {file_path}\")\n",
    "        except ResourceExistsError:\n",
    "            print(f\"Blob already exists for file: {file_path}. Skipped upload.\")\n",
    "        except Exception as e:\n",
    "            print(f\"An error occurred during the upload of file: {file_path}\")\n",
    "            print(str(e))"
   ]
  }
 ],
 "metadata": {
  "kernelspec": {
   "display_name": "Python 3 (ipykernel)",
   "language": "python",
   "name": "python3"
  },
  "language_info": {
   "codemirror_mode": {
    "name": "ipython",
    "version": 3
   },
   "file_extension": ".py",
   "mimetype": "text/x-python",
   "name": "python",
   "nbconvert_exporter": "python",
   "pygments_lexer": "ipython3",
   "version": "3.10.9"
  }
 },
 "nbformat": 4,
 "nbformat_minor": 5
}
