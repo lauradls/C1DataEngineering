{
 "cells": [
  {
   "cell_type": "markdown",
   "id": "aaf88931",
   "metadata": {},
   "source": [
    "# ETL of PPP Sources"
   ]
  },
  {
   "cell_type": "code",
   "execution_count": 25,
   "id": "3f4bebaf",
   "metadata": {},
   "outputs": [],
   "source": [
    "import pandas as pd\n",
    "import csv\n",
    "import sqlite3\n",
    "import uuid\n",
    "import numpy as np"
   ]
  },
  {
   "cell_type": "code",
   "execution_count": null,
   "id": "28b87f87",
   "metadata": {},
   "outputs": [],
   "source": [
    "index_path = \"C:/Users/18054/Desktop/DS4A/PPP Sources/2022_NAICS_Index_File.xlsx\"\n",
    "index_df = pd.read_excel(index_path)\n",
    "\n",
    "csv_output = \"C:/Users/18054/Desktop/DS4A/PPP Sources/2022_NAICS_Index_File.csv\"\n",
    "index_df.to_csv(csv_output, index=False)\n",
    "\n"
   ]
  },
  {
   "cell_type": "code",
   "execution_count": 2,
   "id": "a70bea20",
   "metadata": {},
   "outputs": [],
   "source": [
    "PPP_path = \"C:/Users/18054/Desktop/DS4A/AllBanksPPP.xlsx\"\n",
    "PPP_df = pd.read_excel(PPP_path)\n",
    "\n",
    "PPP_output = \"C:/Users/18054/Desktop/DS4A/PPP Sources/AllBanksPPP.csv\"\n",
    "PPP_df.to_csv(PPP_output, index=False)\n"
   ]
  },
  {
   "cell_type": "markdown",
   "id": "36dc0f9e",
   "metadata": {},
   "source": [
    "### Begin making loan fact Table"
   ]
  },
  {
   "cell_type": "code",
   "execution_count": 3,
   "id": "54db173f",
   "metadata": {},
   "outputs": [],
   "source": [
    "# Read the CSV file\n",
    "df = pd.read_csv('C:/Users/18054/Desktop/DS4A/PPP Sources/AllBanksPPP.csv')  # Replace with the path to your CSV file\n",
    "\n",
    "# Select the columns you want to extract\n",
    "selected_columns = ['ForgivenessAmount', 'InitialApprovalAmount', 'CurrentApprovalAmount', 'UndisbursedAmount', 'LoanNumber','SBAGuarantyPercentage', 'ForgivenessDate']  # Replace with the column names you want to extract\n",
    "\n",
    "# Create a new DataFrame with the selected columns\n",
    "new_df = df[selected_columns].copy()\n",
    "\n",
    "# Reset the index to start from 1\n",
    "new_df.reset_index(drop=True, inplace=True)\n",
    "\n",
    "# Add a unique ID column as the first column\n",
    "new_df.insert(0, 'ID', range(1, len(new_df) + 1))\n",
    "\n",
    "# Write the new DataFrame to a new CSV file\n",
    "new_df.to_csv('C:/Users/18054/Desktop/DS4A/PPP Sources/Loan_Fact.csv', index=False)\n"
   ]
  },
  {
   "cell_type": "markdown",
   "id": "b386e3da",
   "metadata": {},
   "source": [
    "### Begin making Borrower Table"
   ]
  },
  {
   "cell_type": "code",
   "execution_count": 61,
   "id": "e83b8b7e",
   "metadata": {},
   "outputs": [],
   "source": [
    "# Read the CSV file\n",
    "df = pd.read_csv('C:/Users/18054/Desktop/DS4A/PPP Sources/AllBanksPPP.csv')  # Replace with the path to your CSV file\n",
    "\n",
    "# Select the columns you want to extract\n",
    "Borrower_columns = ['BorrowerName', 'BorrowerAddress', 'BorrowerCity', 'BorrowerState','BorrowerZip', 'BusinessType']  # Replace with the column names you want to extract\n",
    "\n",
    "# Create a new DataFrame with the selected columns\n",
    "new_borrowerdf = df[Borrower_columns].copy()\n",
    "\n",
    "# Reset the index to start from 1\n",
    "new_borrowerdf.reset_index(drop=True, inplace=True)\n",
    "\n",
    "# Add a unique ID column as the first column\n",
    "new_borrowerdf.insert(0, 'BorrowerID', range(1, len(new_borrowerdf) + 1))\n",
    "\n",
    "# Write the new DataFrame to a new CSV file\n",
    "new_borrowerdf.to_csv('C:/Users/18054/Desktop/DS4A/PPP Sources/Borrower_Fact.csv', index=False)\n"
   ]
  },
  {
   "cell_type": "markdown",
   "id": "47840e62",
   "metadata": {},
   "source": [
    "## Check Data"
   ]
  },
  {
   "cell_type": "code",
   "execution_count": 63,
   "id": "8616e247",
   "metadata": {},
   "outputs": [],
   "source": [
    "# Read the CSV file\n",
    "df1 = pd.read_csv('C:/Users/18054/Desktop/DS4A/PPP Sources/Borrower_Fact.csv')\n",
    "\n",
    "# Fill rows with all NaN values with a placeholder value\n",
    "df1 = df1.fillna('Data Missing', inplace=False)\n",
    "\n",
    "# Write the modified DataFrame to a new CSV file\n",
    "df1.to_csv('C:/Users/18054/Desktop/DS4A/PPP Sources/CompleteBorrower_Fact.csv', index=False)"
   ]
  },
  {
   "cell_type": "code",
   "execution_count": 6,
   "id": "fc02350e",
   "metadata": {},
   "outputs": [],
   "source": [
    "# Read the CSV file\n",
    "df2 = pd.read_csv('C:/Users/18054/Desktop/DS4A/PPP Sources/Loan_Fact.csv')\n",
    "\n",
    "# Fill rows with all NaN values with a placeholder value\n",
    "df2 = df2.fillna('Data Missing', inplace=False)\n",
    "\n",
    "# Write the modified DataFrame to a new CSV file\n",
    "df2.to_csv('C:/Users/18054/Desktop/DS4A/PPP Sources/CompleteLoan_Fact.csv', index=False)"
   ]
  },
  {
   "cell_type": "code",
   "execution_count": 5,
   "id": "b5b9489c",
   "metadata": {},
   "outputs": [
    {
     "name": "stdout",
     "output_type": "stream",
     "text": [
      "ID                         int64\n",
      "ForgivenessAmount        float64\n",
      "InitialApprovalAmount    float64\n",
      "CurrentApprovalAmount    float64\n",
      "UndisbursedAmount          int64\n",
      "LoanNumber                 int64\n",
      "SBAGuarantyPercentage      int64\n",
      "ForgivenessDate           object\n",
      "dtype: object\n"
     ]
    }
   ],
   "source": [
    "df3 = pd.read_csv('C:/Users/18054/Desktop/DS4A/PPP Sources/CompleteLoan_Fact.csv')\n",
    "\n",
    "# View the data types of each column\n",
    "print(df3.dtypes)"
   ]
  },
  {
   "cell_type": "code",
   "execution_count": 6,
   "id": "e5b5163e",
   "metadata": {},
   "outputs": [],
   "source": [
    "# Fill blank cells with a float value\n",
    "df3.fillna(0.0, inplace=True)\n",
    "\n",
    "# Write the DataFrame back to a new CSV file\n",
    "df3.to_csv('C:/Users/18054/Desktop/DS4A/PPP Sources/CompleteLoan_Fact.csv', index=False)"
   ]
  },
  {
   "cell_type": "code",
   "execution_count": 7,
   "id": "9e1f0399",
   "metadata": {},
   "outputs": [
    {
     "name": "stdout",
     "output_type": "stream",
     "text": [
      "ID                        object\n",
      "ForgivenessAmount        float64\n",
      "InitialApprovalAmount    float64\n",
      "CurrentApprovalAmount    float64\n",
      "UndisbursedAmount        float64\n",
      "LoanNumber                object\n",
      "SBAGuarantyPercentage      int64\n",
      "ForgivenessDate           object\n",
      "dtype: object\n"
     ]
    }
   ],
   "source": [
    "df1 = pd.read_csv('C:/Users/18054/Desktop/DS4A/PPP Sources/CompleteLoan_Fact.csv', dtype={'ID': object,\n",
    "                                         'ForgivenessAmount': float,\n",
    "                                         'InitialApprovalAmount': float,                                               \n",
    "                                         'CurrentApprovalAmount': float,\n",
    "                                         'UndisbursedAmount': float,\n",
    "                                         'LoanNumber': object,                                               \n",
    "                                         'SBA guaranty percentage': float,\n",
    "                                         'Forgiveness date': 'datetime64'})\n",
    "\n",
    "# View the data types of each column\n",
    "print(df1.dtypes)"
   ]
  },
  {
   "cell_type": "code",
   "execution_count": 65,
   "id": "fe3f8e96",
   "metadata": {},
   "outputs": [
    {
     "name": "stdout",
     "output_type": "stream",
     "text": [
      "BorrowerID          int64\n",
      "BorrowerName       object\n",
      "BorrowerAddress    object\n",
      "BorrowerCity       object\n",
      "BorrowerState      object\n",
      "BorrowerZip        object\n",
      "BusinessType       object\n",
      "dtype: object\n"
     ]
    }
   ],
   "source": [
    "df4 = pd.read_csv('C:/Users/18054/Desktop/DS4A/PPP Sources/CompleteBorrower_Fact.csv')\n",
    "\n",
    "# View the data types of each column\n",
    "print(df4.dtypes)"
   ]
  },
  {
   "cell_type": "code",
   "execution_count": 9,
   "id": "94f5b565",
   "metadata": {},
   "outputs": [],
   "source": [
    "# Fill blank cells with a float value\n",
    "df4.fillna(0.0, inplace=True)\n",
    "\n",
    "# Write the DataFrame back to a new CSV file\n",
    "df4.to_csv('C:/Users/18054/Desktop/DS4A/PPP Sources/CompleteBorrower_Fact.csv', index=False)"
   ]
  },
  {
   "cell_type": "code",
   "execution_count": 62,
   "id": "3ecccf07",
   "metadata": {},
   "outputs": [
    {
     "name": "stdout",
     "output_type": "stream",
     "text": [
      "ID                 object\n",
      "BorrowerName       object\n",
      "BorrowerAddress    object\n",
      "BorrowerCity       object\n",
      "BorrowerState      object\n",
      "BorrowerZip        object\n",
      "BusinessType       object\n",
      "dtype: object\n"
     ]
    }
   ],
   "source": [
    "df4 = pd.read_csv('C:/Users/18054/Desktop/DS4A/PPP Sources/CompleteBorrower_Fact.csv', dtype={'ID': object,\n",
    "                                         'BorrowerName': object,\n",
    "                                         'BorrowerAddress': object,                                               \n",
    "                                         'BorrowerCity': object,\n",
    "                                         'BorrowerState': object,\n",
    "                                         'BorrowerZip': object,                                               \n",
    "                                         'BusinessType': object})\n",
    "\n",
    "# View the data types of each column\n",
    "print(df4.dtypes)"
   ]
  },
  {
   "cell_type": "markdown",
   "id": "6d23ab7d",
   "metadata": {},
   "source": [
    "## Updating Date on files"
   ]
  },
  {
   "cell_type": "code",
   "execution_count": 40,
   "id": "3f9153b7",
   "metadata": {},
   "outputs": [],
   "source": [
    "df_date = pd.read_csv('C:/Users/18054/Desktop/DS4A/PPP Sources/AllBanksPPP.csv')"
   ]
  },
  {
   "cell_type": "code",
   "execution_count": 41,
   "id": "97826da3",
   "metadata": {},
   "outputs": [
    {
     "ename": "ValueError",
     "evalue": "time data \"5/18/2021\" at position 0 doesn't match format specified",
     "output_type": "error",
     "traceback": [
      "\u001b[1;31m---------------------------------------------------------------------------\u001b[0m",
      "\u001b[1;31mValueError\u001b[0m                                Traceback (most recent call last)",
      "Cell \u001b[1;32mIn[41], line 2\u001b[0m\n\u001b[0;32m      1\u001b[0m \u001b[38;5;66;03m# Updating Date Approved ISO format 'YYYY-MM-DD'\u001b[39;00m\n\u001b[1;32m----> 2\u001b[0m df_date[\u001b[38;5;124m'\u001b[39m\u001b[38;5;124mDateApproved\u001b[39m\u001b[38;5;124m'\u001b[39m] \u001b[38;5;241m=\u001b[39m \u001b[43mpd\u001b[49m\u001b[38;5;241;43m.\u001b[39;49m\u001b[43mto_datetime\u001b[49m\u001b[43m(\u001b[49m\u001b[43mdf_date\u001b[49m\u001b[43m[\u001b[49m\u001b[38;5;124;43m'\u001b[39;49m\u001b[38;5;124;43mDateApproved\u001b[39;49m\u001b[38;5;124;43m'\u001b[39;49m\u001b[43m]\u001b[49m\u001b[43m,\u001b[49m\u001b[43m \u001b[49m\u001b[38;5;28;43mformat\u001b[39;49m\u001b[43m \u001b[49m\u001b[38;5;241;43m=\u001b[39;49m\u001b[38;5;124;43m'\u001b[39;49m\u001b[38;5;124;43m%\u001b[39;49m\u001b[38;5;124;43mY-\u001b[39;49m\u001b[38;5;124;43m%\u001b[39;49m\u001b[38;5;124;43mm-\u001b[39;49m\u001b[38;5;132;43;01m%d\u001b[39;49;00m\u001b[38;5;124;43m'\u001b[39;49m\u001b[43m)\u001b[49m\u001b[38;5;241m.\u001b[39mdt\u001b[38;5;241m.\u001b[39mdate\n\u001b[0;32m      4\u001b[0m \u001b[38;5;66;03m#Updating Loan status date to ISO format 'YYYY-MM-DD'\u001b[39;00m\n\u001b[0;32m      5\u001b[0m df_date[\u001b[38;5;124m'\u001b[39m\u001b[38;5;124mLoanStatusDate\u001b[39m\u001b[38;5;124m'\u001b[39m] \u001b[38;5;241m=\u001b[39m pd\u001b[38;5;241m.\u001b[39mto_datetime(df_date[\u001b[38;5;124m'\u001b[39m\u001b[38;5;124mLoanStatusDate\u001b[39m\u001b[38;5;124m'\u001b[39m], \u001b[38;5;28mformat\u001b[39m \u001b[38;5;241m=\u001b[39m\u001b[38;5;124m'\u001b[39m\u001b[38;5;124m%\u001b[39m\u001b[38;5;124mY-\u001b[39m\u001b[38;5;124m%\u001b[39m\u001b[38;5;124mm-\u001b[39m\u001b[38;5;132;01m%d\u001b[39;00m\u001b[38;5;124m'\u001b[39m)\u001b[38;5;241m.\u001b[39mdt\u001b[38;5;241m.\u001b[39mdate\n",
      "File \u001b[1;32m~\\anaconda3\\lib\\site-packages\\pandas\\core\\tools\\datetimes.py:1064\u001b[0m, in \u001b[0;36mto_datetime\u001b[1;34m(arg, errors, dayfirst, yearfirst, utc, format, exact, unit, infer_datetime_format, origin, cache)\u001b[0m\n\u001b[0;32m   1062\u001b[0m             result \u001b[38;5;241m=\u001b[39m arg\u001b[38;5;241m.\u001b[39mtz_localize(tz)\n\u001b[0;32m   1063\u001b[0m \u001b[38;5;28;01melif\u001b[39;00m \u001b[38;5;28misinstance\u001b[39m(arg, ABCSeries):\n\u001b[1;32m-> 1064\u001b[0m     cache_array \u001b[38;5;241m=\u001b[39m \u001b[43m_maybe_cache\u001b[49m\u001b[43m(\u001b[49m\u001b[43marg\u001b[49m\u001b[43m,\u001b[49m\u001b[43m \u001b[49m\u001b[38;5;28;43mformat\u001b[39;49m\u001b[43m,\u001b[49m\u001b[43m \u001b[49m\u001b[43mcache\u001b[49m\u001b[43m,\u001b[49m\u001b[43m \u001b[49m\u001b[43mconvert_listlike\u001b[49m\u001b[43m)\u001b[49m\n\u001b[0;32m   1065\u001b[0m     \u001b[38;5;28;01mif\u001b[39;00m \u001b[38;5;129;01mnot\u001b[39;00m cache_array\u001b[38;5;241m.\u001b[39mempty:\n\u001b[0;32m   1066\u001b[0m         result \u001b[38;5;241m=\u001b[39m arg\u001b[38;5;241m.\u001b[39mmap(cache_array)\n",
      "File \u001b[1;32m~\\anaconda3\\lib\\site-packages\\pandas\\core\\tools\\datetimes.py:229\u001b[0m, in \u001b[0;36m_maybe_cache\u001b[1;34m(arg, format, cache, convert_listlike)\u001b[0m\n\u001b[0;32m    227\u001b[0m unique_dates \u001b[38;5;241m=\u001b[39m unique(arg)\n\u001b[0;32m    228\u001b[0m \u001b[38;5;28;01mif\u001b[39;00m \u001b[38;5;28mlen\u001b[39m(unique_dates) \u001b[38;5;241m<\u001b[39m \u001b[38;5;28mlen\u001b[39m(arg):\n\u001b[1;32m--> 229\u001b[0m     cache_dates \u001b[38;5;241m=\u001b[39m \u001b[43mconvert_listlike\u001b[49m\u001b[43m(\u001b[49m\u001b[43munique_dates\u001b[49m\u001b[43m,\u001b[49m\u001b[43m \u001b[49m\u001b[38;5;28;43mformat\u001b[39;49m\u001b[43m)\u001b[49m\n\u001b[0;32m    230\u001b[0m     \u001b[38;5;66;03m# GH#45319\u001b[39;00m\n\u001b[0;32m    231\u001b[0m     \u001b[38;5;28;01mtry\u001b[39;00m:\n",
      "File \u001b[1;32m~\\anaconda3\\lib\\site-packages\\pandas\\core\\tools\\datetimes.py:438\u001b[0m, in \u001b[0;36m_convert_listlike_datetimes\u001b[1;34m(arg, format, name, tz, unit, errors, infer_datetime_format, dayfirst, yearfirst, exact)\u001b[0m\n\u001b[0;32m    436\u001b[0m \u001b[38;5;28;01massert\u001b[39;00m \u001b[38;5;28mformat\u001b[39m \u001b[38;5;129;01mis\u001b[39;00m \u001b[38;5;28;01mNone\u001b[39;00m \u001b[38;5;129;01mor\u001b[39;00m infer_datetime_format\n\u001b[0;32m    437\u001b[0m utc \u001b[38;5;241m=\u001b[39m tz \u001b[38;5;241m==\u001b[39m \u001b[38;5;124m\"\u001b[39m\u001b[38;5;124mutc\u001b[39m\u001b[38;5;124m\"\u001b[39m\n\u001b[1;32m--> 438\u001b[0m result, tz_parsed \u001b[38;5;241m=\u001b[39m \u001b[43mobjects_to_datetime64ns\u001b[49m\u001b[43m(\u001b[49m\n\u001b[0;32m    439\u001b[0m \u001b[43m    \u001b[49m\u001b[43marg\u001b[49m\u001b[43m,\u001b[49m\n\u001b[0;32m    440\u001b[0m \u001b[43m    \u001b[49m\u001b[43mdayfirst\u001b[49m\u001b[38;5;241;43m=\u001b[39;49m\u001b[43mdayfirst\u001b[49m\u001b[43m,\u001b[49m\n\u001b[0;32m    441\u001b[0m \u001b[43m    \u001b[49m\u001b[43myearfirst\u001b[49m\u001b[38;5;241;43m=\u001b[39;49m\u001b[43myearfirst\u001b[49m\u001b[43m,\u001b[49m\n\u001b[0;32m    442\u001b[0m \u001b[43m    \u001b[49m\u001b[43mutc\u001b[49m\u001b[38;5;241;43m=\u001b[39;49m\u001b[43mutc\u001b[49m\u001b[43m,\u001b[49m\n\u001b[0;32m    443\u001b[0m \u001b[43m    \u001b[49m\u001b[43merrors\u001b[49m\u001b[38;5;241;43m=\u001b[39;49m\u001b[43merrors\u001b[49m\u001b[43m,\u001b[49m\n\u001b[0;32m    444\u001b[0m \u001b[43m    \u001b[49m\u001b[43mrequire_iso8601\u001b[49m\u001b[38;5;241;43m=\u001b[39;49m\u001b[43mrequire_iso8601\u001b[49m\u001b[43m,\u001b[49m\n\u001b[0;32m    445\u001b[0m \u001b[43m    \u001b[49m\u001b[43mallow_object\u001b[49m\u001b[38;5;241;43m=\u001b[39;49m\u001b[38;5;28;43;01mTrue\u001b[39;49;00m\u001b[43m,\u001b[49m\n\u001b[0;32m    446\u001b[0m \u001b[43m\u001b[49m\u001b[43m)\u001b[49m\n\u001b[0;32m    448\u001b[0m \u001b[38;5;28;01mif\u001b[39;00m tz_parsed \u001b[38;5;129;01mis\u001b[39;00m \u001b[38;5;129;01mnot\u001b[39;00m \u001b[38;5;28;01mNone\u001b[39;00m:\n\u001b[0;32m    449\u001b[0m     \u001b[38;5;66;03m# We can take a shortcut since the datetime64 numpy array\u001b[39;00m\n\u001b[0;32m    450\u001b[0m     \u001b[38;5;66;03m# is in UTC\u001b[39;00m\n\u001b[0;32m    451\u001b[0m     dta \u001b[38;5;241m=\u001b[39m DatetimeArray(result, dtype\u001b[38;5;241m=\u001b[39mtz_to_dtype(tz_parsed))\n",
      "File \u001b[1;32m~\\anaconda3\\lib\\site-packages\\pandas\\core\\arrays\\datetimes.py:2177\u001b[0m, in \u001b[0;36mobjects_to_datetime64ns\u001b[1;34m(data, dayfirst, yearfirst, utc, errors, require_iso8601, allow_object, allow_mixed)\u001b[0m\n\u001b[0;32m   2175\u001b[0m order: Literal[\u001b[38;5;124m\"\u001b[39m\u001b[38;5;124mF\u001b[39m\u001b[38;5;124m\"\u001b[39m, \u001b[38;5;124m\"\u001b[39m\u001b[38;5;124mC\u001b[39m\u001b[38;5;124m\"\u001b[39m] \u001b[38;5;241m=\u001b[39m \u001b[38;5;124m\"\u001b[39m\u001b[38;5;124mF\u001b[39m\u001b[38;5;124m\"\u001b[39m \u001b[38;5;28;01mif\u001b[39;00m flags\u001b[38;5;241m.\u001b[39mf_contiguous \u001b[38;5;28;01melse\u001b[39;00m \u001b[38;5;124m\"\u001b[39m\u001b[38;5;124mC\u001b[39m\u001b[38;5;124m\"\u001b[39m\n\u001b[0;32m   2176\u001b[0m \u001b[38;5;28;01mtry\u001b[39;00m:\n\u001b[1;32m-> 2177\u001b[0m     result, tz_parsed \u001b[38;5;241m=\u001b[39m \u001b[43mtslib\u001b[49m\u001b[38;5;241;43m.\u001b[39;49m\u001b[43marray_to_datetime\u001b[49m\u001b[43m(\u001b[49m\n\u001b[0;32m   2178\u001b[0m \u001b[43m        \u001b[49m\u001b[43mdata\u001b[49m\u001b[38;5;241;43m.\u001b[39;49m\u001b[43mravel\u001b[49m\u001b[43m(\u001b[49m\u001b[38;5;124;43m\"\u001b[39;49m\u001b[38;5;124;43mK\u001b[39;49m\u001b[38;5;124;43m\"\u001b[39;49m\u001b[43m)\u001b[49m\u001b[43m,\u001b[49m\n\u001b[0;32m   2179\u001b[0m \u001b[43m        \u001b[49m\u001b[43merrors\u001b[49m\u001b[38;5;241;43m=\u001b[39;49m\u001b[43merrors\u001b[49m\u001b[43m,\u001b[49m\n\u001b[0;32m   2180\u001b[0m \u001b[43m        \u001b[49m\u001b[43mutc\u001b[49m\u001b[38;5;241;43m=\u001b[39;49m\u001b[43mutc\u001b[49m\u001b[43m,\u001b[49m\n\u001b[0;32m   2181\u001b[0m \u001b[43m        \u001b[49m\u001b[43mdayfirst\u001b[49m\u001b[38;5;241;43m=\u001b[39;49m\u001b[43mdayfirst\u001b[49m\u001b[43m,\u001b[49m\n\u001b[0;32m   2182\u001b[0m \u001b[43m        \u001b[49m\u001b[43myearfirst\u001b[49m\u001b[38;5;241;43m=\u001b[39;49m\u001b[43myearfirst\u001b[49m\u001b[43m,\u001b[49m\n\u001b[0;32m   2183\u001b[0m \u001b[43m        \u001b[49m\u001b[43mrequire_iso8601\u001b[49m\u001b[38;5;241;43m=\u001b[39;49m\u001b[43mrequire_iso8601\u001b[49m\u001b[43m,\u001b[49m\n\u001b[0;32m   2184\u001b[0m \u001b[43m        \u001b[49m\u001b[43mallow_mixed\u001b[49m\u001b[38;5;241;43m=\u001b[39;49m\u001b[43mallow_mixed\u001b[49m\u001b[43m,\u001b[49m\n\u001b[0;32m   2185\u001b[0m \u001b[43m    \u001b[49m\u001b[43m)\u001b[49m\n\u001b[0;32m   2186\u001b[0m     result \u001b[38;5;241m=\u001b[39m result\u001b[38;5;241m.\u001b[39mreshape(data\u001b[38;5;241m.\u001b[39mshape, order\u001b[38;5;241m=\u001b[39morder)\n\u001b[0;32m   2187\u001b[0m \u001b[38;5;28;01mexcept\u001b[39;00m \u001b[38;5;167;01mOverflowError\u001b[39;00m \u001b[38;5;28;01mas\u001b[39;00m err:\n\u001b[0;32m   2188\u001b[0m     \u001b[38;5;66;03m# Exception is raised when a part of date is greater than 32 bit signed int\u001b[39;00m\n",
      "File \u001b[1;32m~\\anaconda3\\lib\\site-packages\\pandas\\_libs\\tslib.pyx:427\u001b[0m, in \u001b[0;36mpandas._libs.tslib.array_to_datetime\u001b[1;34m()\u001b[0m\n",
      "File \u001b[1;32m~\\anaconda3\\lib\\site-packages\\pandas\\_libs\\tslib.pyx:599\u001b[0m, in \u001b[0;36mpandas._libs.tslib.array_to_datetime\u001b[1;34m()\u001b[0m\n",
      "\u001b[1;31mValueError\u001b[0m: time data \"5/18/2021\" at position 0 doesn't match format specified"
     ]
    }
   ],
   "source": [
    "# Updating Date Approved ISO format 'YYYY-MM-DD'\n",
    "df_date['DateApproved'] = pd.to_datetime(df_date['DateApproved'], format ='%Y-%m-%d').dt.date\n",
    "\n",
    "#Updating Loan status date to ISO format 'YYYY-MM-DD'\n",
    "df_date['LoanStatusDate'] = pd.to_datetime(df_date['LoanStatusDate'], format ='%Y-%m-%d').dt.date\n",
    "\n",
    "\n",
    "#Updating Forgiveness date to ISO format 'YYYY-MM-DD'\n",
    "df_date['ForgivenessDate'] = pd.to_datetime(df_date['ForgivenessDate'], format ='%Y-%m-%d').dt.date\n",
    "\n",
    "\n",
    "\n",
    "df_date['Approved_year'] = pd.to_datetime(df_date['DateApproved']).dt.year\n",
    "df_date['Approved_month'] = pd.to_datetime(df_date['DateApproved']).dt.month\n",
    "df_date['Approved_day'] = pd.to_datetime(df_date['DateApproved']).dt.day\n",
    "df_date['Approved_quarter'] = pd.to_datetime(df_date['DateApproved']).dt.quarter\n",
    "\n",
    "df_date['Status_year'] = pd.to_datetime(df_date['LoanStatusDate']).dt.year\n",
    "df_date['Status_month'] = pd.to_datetime(df_date['LoanStatusDate']).dt.month\n",
    "df_date['Status_day'] = pd.to_datetime(df_date['LoanStatusDate']).dt.day\n",
    "df_date['Status_quarter'] = pd.to_datetime(df_date['LoanStatusDate']).dt.quarter\n",
    "\n",
    "\n",
    "df_date['Forgivness_year'] = pd.to_datetime(df_date['ForgivenessDate']).dt.year\n",
    "df_date['Forgiveness_month'] = pd.to_datetime(df_date['ForgivenessDate']).dt.month\n",
    "df_date['Forgiveness_day'] = pd.to_datetime(df_date['ForgivenessDate']).dt.day\n",
    "df_date['Forgiveness_quarter'] = pd.to_datetime(df_date['ForgivenessDate']).dt.quarter\n"
   ]
  },
  {
   "cell_type": "code",
   "execution_count": 42,
   "id": "44f6730b",
   "metadata": {},
   "outputs": [],
   "source": [
    "# Save the modified DataFrame back to a new CSV file if desired\n",
    "df_date.to_csv('C:/Users/18054/Desktop/DS4A/PPP Sources/AllBanksPPP.csv', index=False)"
   ]
  },
  {
   "cell_type": "markdown",
   "id": "ee46ac2d",
   "metadata": {},
   "source": [
    "### Updating the ISo dates to be formatted into the Primary Keys columns"
   ]
  },
  {
   "cell_type": "code",
   "execution_count": 44,
   "id": "97bde0ff",
   "metadata": {},
   "outputs": [],
   "source": [
    "df_date = pd.read_csv('C:/Users/18054/Desktop/DS4A/PPP Sources/AllBanksPPP.csv')"
   ]
  },
  {
   "cell_type": "code",
   "execution_count": 45,
   "id": "85221a48",
   "metadata": {},
   "outputs": [],
   "source": [
    "#Updating the format in date to datetime\n",
    "df_date['DateApproved'] = pd.to_datetime(df_date['DateApproved'])\n",
    "df_date['LoanStatusDate'] = pd.to_datetime(df_date['LoanStatusDate'])\n",
    "df_date['ForgivenessDate'] = pd.to_datetime(df_date['ForgivenessDate'])\n"
   ]
  },
  {
   "cell_type": "code",
   "execution_count": 46,
   "id": "5143763c",
   "metadata": {},
   "outputs": [],
   "source": [
    "# Create primary key columns with the format 'YYYYMMDDD' as integer\n",
    "df_date['ApprovedPK'] = df_date['DateApproved'].dt.strftime('%Y%m%d')\n",
    "df_date['StatusPK'] = df_date['LoanStatusDate'].dt.strftime('%Y%m%d')\n",
    "df_date['ForgivenessPK'] = df_date['ForgivenessDate'].dt.strftime('%Y%m%d')\n"
   ]
  },
  {
   "cell_type": "code",
   "execution_count": 47,
   "id": "9a688692",
   "metadata": {},
   "outputs": [],
   "source": [
    "# Handle missing values and convert to integer\n",
    "df_date['ApprovedPK'] = df_date['ApprovedPK'].fillna('00000000').astype(int)\n",
    "df_date['StatusPK'] = df_date['StatusPK'].fillna('00000000').astype(int)\n",
    "df_date['ForgivenessPK'] = df_date['ForgivenessPK'].fillna('00000000').astype(int)\n"
   ]
  },
  {
   "cell_type": "code",
   "execution_count": 48,
   "id": "96b51218",
   "metadata": {},
   "outputs": [],
   "source": [
    "# Save the modified DataFrame back to a new CSV file if desired\n",
    "df_date.to_csv('C:/Users/18054/Desktop/DS4A/PPP Sources/AllBanksPPP.csv', index=False)"
   ]
  },
  {
   "cell_type": "markdown",
   "id": "63f72207",
   "metadata": {},
   "source": [
    "## Updating Loan Fact Table with correct Dates"
   ]
  },
  {
   "cell_type": "code",
   "execution_count": 59,
   "id": "cc342ceb",
   "metadata": {},
   "outputs": [],
   "source": [
    "# Read the CSV file\n",
    "df2 = pd.read_csv('C:/Users/18054/Desktop/DS4A/PPP Sources/AllBanksPPP.csv')  # Replace with the path to your CSV file\n"
   ]
  },
  {
   "cell_type": "code",
   "execution_count": 60,
   "id": "25f9ec68",
   "metadata": {},
   "outputs": [],
   "source": [
    "\n",
    "# Select the columns you want to extract\n",
    "selected_columns = ['ForgivenessAmount', 'InitialApprovalAmount', 'CurrentApprovalAmount', 'UndisbursedAmount', 'LoanNumber','SBAGuarantyPercentage', 'ForgivenessDate','Forgivness_year','Forgiveness_month','Forgiveness_day','Forgiveness_quarter','ForgivenessPK']  # Replace with the column names you want to extract\n",
    "\n",
    "# Create a new DataFrame with the selected columns\n",
    "new_df2 = df2[selected_columns].copy()\n",
    "\n",
    "# Reset the index to start from 1\n",
    "new_df2.reset_index(drop=True, inplace=True)\n",
    "\n",
    "# Add a unique ID column as the first column\n",
    "new_df2.insert(0, 'LoanID', range(1, len(new_df2) + 1))\n",
    "\n",
    "# Write the new DataFrame to a new CSV file\n",
    "new_df2.to_csv('C:/Users/18054/Desktop/DS4A/PPP Sources/CompleteLoan_Fact.csv', index=False)\n"
   ]
  },
  {
   "cell_type": "code",
   "execution_count": 51,
   "id": "c3183033",
   "metadata": {},
   "outputs": [
    {
     "name": "stdout",
     "output_type": "stream",
     "text": [
      "LoanID                     int64\n",
      "ForgivenessAmount        float64\n",
      "InitialApprovalAmount    float64\n",
      "CurrentApprovalAmount    float64\n",
      "UndisbursedAmount          int64\n",
      "LoanNumber                 int64\n",
      "SBAGuarantyPercentage      int64\n",
      "ForgivenessDate           object\n",
      "Forgivness_year          float64\n",
      "Forgiveness_month        float64\n",
      "Forgiveness_day          float64\n",
      "Forgiveness_quarter      float64\n",
      "ForgivenessPK              int64\n",
      "dtype: object\n"
     ]
    }
   ],
   "source": [
    "df3 = pd.read_csv('C:/Users/18054/Desktop/DS4A/PPP Sources/CompleteLoan_Fact.csv')\n",
    "\n",
    "# View the data types of each column\n",
    "print(df3.dtypes)"
   ]
  },
  {
   "cell_type": "code",
   "execution_count": 57,
   "id": "e72741ba",
   "metadata": {},
   "outputs": [
    {
     "ename": "ValueError",
     "evalue": "cannot safely convert passed user dtype of int32 for float64 dtyped data in column 8",
     "output_type": "error",
     "traceback": [
      "\u001b[1;31m---------------------------------------------------------------------------\u001b[0m",
      "\u001b[1;31mTypeError\u001b[0m                                 Traceback (most recent call last)",
      "File \u001b[1;32m~\\anaconda3\\lib\\site-packages\\pandas\\_libs\\parsers.pyx:1124\u001b[0m, in \u001b[0;36mpandas._libs.parsers.TextReader._convert_tokens\u001b[1;34m()\u001b[0m\n",
      "\u001b[1;31mTypeError\u001b[0m: Cannot cast array data from dtype('float64') to dtype('int32') according to the rule 'safe'",
      "\nDuring handling of the above exception, another exception occurred:\n",
      "\u001b[1;31mValueError\u001b[0m                                Traceback (most recent call last)",
      "Cell \u001b[1;32mIn[57], line 1\u001b[0m\n\u001b[1;32m----> 1\u001b[0m df1 \u001b[38;5;241m=\u001b[39m \u001b[43mpd\u001b[49m\u001b[38;5;241;43m.\u001b[39;49m\u001b[43mread_csv\u001b[49m\u001b[43m(\u001b[49m\u001b[38;5;124;43m'\u001b[39;49m\u001b[38;5;124;43mC:/Users/18054/Desktop/DS4A/PPP Sources/CompleteLoan_Fact.csv\u001b[39;49m\u001b[38;5;124;43m'\u001b[39;49m\u001b[43m,\u001b[49m\u001b[43m \u001b[49m\u001b[43mdtype\u001b[49m\u001b[38;5;241;43m=\u001b[39;49m\u001b[43m{\u001b[49m\u001b[38;5;124;43m'\u001b[39;49m\u001b[38;5;124;43mID\u001b[39;49m\u001b[38;5;124;43m'\u001b[39;49m\u001b[43m:\u001b[49m\u001b[43m \u001b[49m\u001b[38;5;28;43mobject\u001b[39;49m\u001b[43m,\u001b[49m\n\u001b[0;32m      2\u001b[0m \u001b[43m                                                 \u001b[49m\u001b[38;5;124;43m'\u001b[39;49m\u001b[38;5;124;43mForgivenessAmount\u001b[39;49m\u001b[38;5;124;43m'\u001b[39;49m\u001b[43m:\u001b[49m\u001b[43m \u001b[49m\u001b[38;5;28;43mfloat\u001b[39;49m\u001b[43m,\u001b[49m\n\u001b[0;32m      3\u001b[0m \u001b[43m                                                 \u001b[49m\u001b[38;5;124;43m'\u001b[39;49m\u001b[38;5;124;43mInitialApprovalAmount\u001b[39;49m\u001b[38;5;124;43m'\u001b[39;49m\u001b[43m:\u001b[49m\u001b[43m \u001b[49m\u001b[38;5;28;43mfloat\u001b[39;49m\u001b[43m,\u001b[49m\u001b[43m                                               \u001b[49m\n\u001b[0;32m      4\u001b[0m \u001b[43m                                                 \u001b[49m\u001b[38;5;124;43m'\u001b[39;49m\u001b[38;5;124;43mCurrentApprovalAmount\u001b[39;49m\u001b[38;5;124;43m'\u001b[39;49m\u001b[43m:\u001b[49m\u001b[43m \u001b[49m\u001b[38;5;28;43mfloat\u001b[39;49m\u001b[43m,\u001b[49m\n\u001b[0;32m      5\u001b[0m \u001b[43m                                                 \u001b[49m\u001b[38;5;124;43m'\u001b[39;49m\u001b[38;5;124;43mUndisbursedAmount\u001b[39;49m\u001b[38;5;124;43m'\u001b[39;49m\u001b[43m:\u001b[49m\u001b[43m \u001b[49m\u001b[38;5;28;43mfloat\u001b[39;49m\u001b[43m,\u001b[49m\n\u001b[0;32m      6\u001b[0m \u001b[43m                                                 \u001b[49m\u001b[38;5;124;43m'\u001b[39;49m\u001b[38;5;124;43mLoanNumber\u001b[39;49m\u001b[38;5;124;43m'\u001b[39;49m\u001b[43m:\u001b[49m\u001b[43m \u001b[49m\u001b[38;5;28;43mint\u001b[39;49m\u001b[43m,\u001b[49m\u001b[43m                                               \u001b[49m\n\u001b[0;32m      7\u001b[0m \u001b[43m                                                 \u001b[49m\u001b[38;5;124;43m'\u001b[39;49m\u001b[38;5;124;43mSBAGuarantyPercentage\u001b[39;49m\u001b[38;5;124;43m'\u001b[39;49m\u001b[43m:\u001b[49m\u001b[43m \u001b[49m\u001b[38;5;28;43mfloat\u001b[39;49m\u001b[43m,\u001b[49m\n\u001b[0;32m      8\u001b[0m \u001b[43m                                                 \u001b[49m\u001b[38;5;124;43m'\u001b[39;49m\u001b[38;5;124;43mForgivenessDate\u001b[39;49m\u001b[38;5;124;43m'\u001b[39;49m\u001b[43m:\u001b[49m\u001b[43m \u001b[49m\u001b[38;5;28;43mstr\u001b[39;49m\u001b[43m,\u001b[49m\n\u001b[0;32m      9\u001b[0m \u001b[43m                                                 \u001b[49m\u001b[38;5;124;43m'\u001b[39;49m\u001b[38;5;124;43mForgivness_year\u001b[39;49m\u001b[38;5;124;43m'\u001b[39;49m\u001b[43m:\u001b[49m\u001b[43m \u001b[49m\u001b[38;5;28;43mint\u001b[39;49m\u001b[43m,\u001b[49m\u001b[43m  \u001b[49m\n\u001b[0;32m     10\u001b[0m \u001b[43m                                                 \u001b[49m\u001b[38;5;124;43m'\u001b[39;49m\u001b[38;5;124;43mForgivness_month\u001b[39;49m\u001b[38;5;124;43m'\u001b[39;49m\u001b[43m:\u001b[49m\u001b[43m \u001b[49m\u001b[38;5;28;43mint\u001b[39;49m\u001b[43m,\u001b[49m\u001b[43m \u001b[49m\n\u001b[0;32m     11\u001b[0m \u001b[43m                                                 \u001b[49m\u001b[38;5;124;43m'\u001b[39;49m\u001b[38;5;124;43mForgivness_day\u001b[39;49m\u001b[38;5;124;43m'\u001b[39;49m\u001b[43m:\u001b[49m\u001b[43m \u001b[49m\u001b[38;5;28;43mint\u001b[39;49m\u001b[43m,\u001b[49m\u001b[43m \u001b[49m\n\u001b[0;32m     12\u001b[0m \u001b[43m                                                 \u001b[49m\u001b[38;5;124;43m'\u001b[39;49m\u001b[38;5;124;43mForgivness_quarter\u001b[39;49m\u001b[38;5;124;43m'\u001b[39;49m\u001b[43m:\u001b[49m\u001b[43m \u001b[49m\u001b[38;5;28;43mint\u001b[39;49m\u001b[43m,\u001b[49m\n\u001b[0;32m     13\u001b[0m \u001b[43m                                                 \u001b[49m\u001b[38;5;124;43m'\u001b[39;49m\u001b[38;5;124;43mForgivenessPK\u001b[39;49m\u001b[38;5;124;43m'\u001b[39;49m\u001b[43m:\u001b[49m\u001b[43m \u001b[49m\u001b[38;5;28;43mobject\u001b[39;49m\u001b[43m  \u001b[49m\u001b[38;5;66;43;03m# Change the data type to 'object'\u001b[39;49;00m\n\u001b[0;32m     14\u001b[0m \u001b[43m                                                \u001b[49m\u001b[43m}\u001b[49m\u001b[43m)\u001b[49m\n\u001b[0;32m     15\u001b[0m \u001b[38;5;66;03m# View the data types of each column\u001b[39;00m\n\u001b[0;32m     16\u001b[0m \u001b[38;5;28mprint\u001b[39m(df1\u001b[38;5;241m.\u001b[39mdtypes)\n",
      "File \u001b[1;32m~\\anaconda3\\lib\\site-packages\\pandas\\util\\_decorators.py:211\u001b[0m, in \u001b[0;36mdeprecate_kwarg.<locals>._deprecate_kwarg.<locals>.wrapper\u001b[1;34m(*args, **kwargs)\u001b[0m\n\u001b[0;32m    209\u001b[0m     \u001b[38;5;28;01melse\u001b[39;00m:\n\u001b[0;32m    210\u001b[0m         kwargs[new_arg_name] \u001b[38;5;241m=\u001b[39m new_arg_value\n\u001b[1;32m--> 211\u001b[0m \u001b[38;5;28;01mreturn\u001b[39;00m func(\u001b[38;5;241m*\u001b[39margs, \u001b[38;5;241m*\u001b[39m\u001b[38;5;241m*\u001b[39mkwargs)\n",
      "File \u001b[1;32m~\\anaconda3\\lib\\site-packages\\pandas\\util\\_decorators.py:331\u001b[0m, in \u001b[0;36mdeprecate_nonkeyword_arguments.<locals>.decorate.<locals>.wrapper\u001b[1;34m(*args, **kwargs)\u001b[0m\n\u001b[0;32m    325\u001b[0m \u001b[38;5;28;01mif\u001b[39;00m \u001b[38;5;28mlen\u001b[39m(args) \u001b[38;5;241m>\u001b[39m num_allow_args:\n\u001b[0;32m    326\u001b[0m     warnings\u001b[38;5;241m.\u001b[39mwarn(\n\u001b[0;32m    327\u001b[0m         msg\u001b[38;5;241m.\u001b[39mformat(arguments\u001b[38;5;241m=\u001b[39m_format_argument_list(allow_args)),\n\u001b[0;32m    328\u001b[0m         \u001b[38;5;167;01mFutureWarning\u001b[39;00m,\n\u001b[0;32m    329\u001b[0m         stacklevel\u001b[38;5;241m=\u001b[39mfind_stack_level(),\n\u001b[0;32m    330\u001b[0m     )\n\u001b[1;32m--> 331\u001b[0m \u001b[38;5;28;01mreturn\u001b[39;00m func(\u001b[38;5;241m*\u001b[39margs, \u001b[38;5;241m*\u001b[39m\u001b[38;5;241m*\u001b[39mkwargs)\n",
      "File \u001b[1;32m~\\anaconda3\\lib\\site-packages\\pandas\\io\\parsers\\readers.py:950\u001b[0m, in \u001b[0;36mread_csv\u001b[1;34m(filepath_or_buffer, sep, delimiter, header, names, index_col, usecols, squeeze, prefix, mangle_dupe_cols, dtype, engine, converters, true_values, false_values, skipinitialspace, skiprows, skipfooter, nrows, na_values, keep_default_na, na_filter, verbose, skip_blank_lines, parse_dates, infer_datetime_format, keep_date_col, date_parser, dayfirst, cache_dates, iterator, chunksize, compression, thousands, decimal, lineterminator, quotechar, quoting, doublequote, escapechar, comment, encoding, encoding_errors, dialect, error_bad_lines, warn_bad_lines, on_bad_lines, delim_whitespace, low_memory, memory_map, float_precision, storage_options)\u001b[0m\n\u001b[0;32m    935\u001b[0m kwds_defaults \u001b[38;5;241m=\u001b[39m _refine_defaults_read(\n\u001b[0;32m    936\u001b[0m     dialect,\n\u001b[0;32m    937\u001b[0m     delimiter,\n\u001b[1;32m   (...)\u001b[0m\n\u001b[0;32m    946\u001b[0m     defaults\u001b[38;5;241m=\u001b[39m{\u001b[38;5;124m\"\u001b[39m\u001b[38;5;124mdelimiter\u001b[39m\u001b[38;5;124m\"\u001b[39m: \u001b[38;5;124m\"\u001b[39m\u001b[38;5;124m,\u001b[39m\u001b[38;5;124m\"\u001b[39m},\n\u001b[0;32m    947\u001b[0m )\n\u001b[0;32m    948\u001b[0m kwds\u001b[38;5;241m.\u001b[39mupdate(kwds_defaults)\n\u001b[1;32m--> 950\u001b[0m \u001b[38;5;28;01mreturn\u001b[39;00m \u001b[43m_read\u001b[49m\u001b[43m(\u001b[49m\u001b[43mfilepath_or_buffer\u001b[49m\u001b[43m,\u001b[49m\u001b[43m \u001b[49m\u001b[43mkwds\u001b[49m\u001b[43m)\u001b[49m\n",
      "File \u001b[1;32m~\\anaconda3\\lib\\site-packages\\pandas\\io\\parsers\\readers.py:611\u001b[0m, in \u001b[0;36m_read\u001b[1;34m(filepath_or_buffer, kwds)\u001b[0m\n\u001b[0;32m    608\u001b[0m     \u001b[38;5;28;01mreturn\u001b[39;00m parser\n\u001b[0;32m    610\u001b[0m \u001b[38;5;28;01mwith\u001b[39;00m parser:\n\u001b[1;32m--> 611\u001b[0m     \u001b[38;5;28;01mreturn\u001b[39;00m \u001b[43mparser\u001b[49m\u001b[38;5;241;43m.\u001b[39;49m\u001b[43mread\u001b[49m\u001b[43m(\u001b[49m\u001b[43mnrows\u001b[49m\u001b[43m)\u001b[49m\n",
      "File \u001b[1;32m~\\anaconda3\\lib\\site-packages\\pandas\\io\\parsers\\readers.py:1778\u001b[0m, in \u001b[0;36mTextFileReader.read\u001b[1;34m(self, nrows)\u001b[0m\n\u001b[0;32m   1771\u001b[0m nrows \u001b[38;5;241m=\u001b[39m validate_integer(\u001b[38;5;124m\"\u001b[39m\u001b[38;5;124mnrows\u001b[39m\u001b[38;5;124m\"\u001b[39m, nrows)\n\u001b[0;32m   1772\u001b[0m \u001b[38;5;28;01mtry\u001b[39;00m:\n\u001b[0;32m   1773\u001b[0m     \u001b[38;5;66;03m# error: \"ParserBase\" has no attribute \"read\"\u001b[39;00m\n\u001b[0;32m   1774\u001b[0m     (\n\u001b[0;32m   1775\u001b[0m         index,\n\u001b[0;32m   1776\u001b[0m         columns,\n\u001b[0;32m   1777\u001b[0m         col_dict,\n\u001b[1;32m-> 1778\u001b[0m     ) \u001b[38;5;241m=\u001b[39m \u001b[38;5;28;43mself\u001b[39;49m\u001b[38;5;241;43m.\u001b[39;49m\u001b[43m_engine\u001b[49m\u001b[38;5;241;43m.\u001b[39;49m\u001b[43mread\u001b[49m\u001b[43m(\u001b[49m\u001b[43m  \u001b[49m\u001b[38;5;66;43;03m# type: ignore[attr-defined]\u001b[39;49;00m\n\u001b[0;32m   1779\u001b[0m \u001b[43m        \u001b[49m\u001b[43mnrows\u001b[49m\n\u001b[0;32m   1780\u001b[0m \u001b[43m    \u001b[49m\u001b[43m)\u001b[49m\n\u001b[0;32m   1781\u001b[0m \u001b[38;5;28;01mexcept\u001b[39;00m \u001b[38;5;167;01mException\u001b[39;00m:\n\u001b[0;32m   1782\u001b[0m     \u001b[38;5;28mself\u001b[39m\u001b[38;5;241m.\u001b[39mclose()\n",
      "File \u001b[1;32m~\\anaconda3\\lib\\site-packages\\pandas\\io\\parsers\\c_parser_wrapper.py:230\u001b[0m, in \u001b[0;36mCParserWrapper.read\u001b[1;34m(self, nrows)\u001b[0m\n\u001b[0;32m    228\u001b[0m \u001b[38;5;28;01mtry\u001b[39;00m:\n\u001b[0;32m    229\u001b[0m     \u001b[38;5;28;01mif\u001b[39;00m \u001b[38;5;28mself\u001b[39m\u001b[38;5;241m.\u001b[39mlow_memory:\n\u001b[1;32m--> 230\u001b[0m         chunks \u001b[38;5;241m=\u001b[39m \u001b[38;5;28;43mself\u001b[39;49m\u001b[38;5;241;43m.\u001b[39;49m\u001b[43m_reader\u001b[49m\u001b[38;5;241;43m.\u001b[39;49m\u001b[43mread_low_memory\u001b[49m\u001b[43m(\u001b[49m\u001b[43mnrows\u001b[49m\u001b[43m)\u001b[49m\n\u001b[0;32m    231\u001b[0m         \u001b[38;5;66;03m# destructive to chunks\u001b[39;00m\n\u001b[0;32m    232\u001b[0m         data \u001b[38;5;241m=\u001b[39m _concatenate_chunks(chunks)\n",
      "File \u001b[1;32m~\\anaconda3\\lib\\site-packages\\pandas\\_libs\\parsers.pyx:808\u001b[0m, in \u001b[0;36mpandas._libs.parsers.TextReader.read_low_memory\u001b[1;34m()\u001b[0m\n",
      "File \u001b[1;32m~\\anaconda3\\lib\\site-packages\\pandas\\_libs\\parsers.pyx:890\u001b[0m, in \u001b[0;36mpandas._libs.parsers.TextReader._read_rows\u001b[1;34m()\u001b[0m\n",
      "File \u001b[1;32m~\\anaconda3\\lib\\site-packages\\pandas\\_libs\\parsers.pyx:1037\u001b[0m, in \u001b[0;36mpandas._libs.parsers.TextReader._convert_column_data\u001b[1;34m()\u001b[0m\n",
      "File \u001b[1;32m~\\anaconda3\\lib\\site-packages\\pandas\\_libs\\parsers.pyx:1132\u001b[0m, in \u001b[0;36mpandas._libs.parsers.TextReader._convert_tokens\u001b[1;34m()\u001b[0m\n",
      "\u001b[1;31mValueError\u001b[0m: cannot safely convert passed user dtype of int32 for float64 dtyped data in column 8"
     ]
    }
   ],
   "source": [
    "df1 = pd.read_csv('C:/Users/18054/Desktop/DS4A/PPP Sources/CompleteLoan_Fact.csv', dtype={'ID': object,\n",
    "                                                 'ForgivenessAmount': float,\n",
    "                                                 'InitialApprovalAmount': float,                                               \n",
    "                                                 'CurrentApprovalAmount': float,\n",
    "                                                 'UndisbursedAmount': float,\n",
    "                                                 'LoanNumber': int,                                               \n",
    "                                                 'SBAGuarantyPercentage': float,\n",
    "                                                 'ForgivenessDate': str,\n",
    "                                                 'Forgivness_year': int,  \n",
    "                                                 'Forgivness_month': int, \n",
    "                                                 'Forgivness_day': int, \n",
    "                                                 'Forgivness_quarter': int,\n",
    "                                                 'ForgivenessPK': object  # Change the data type to 'object'\n",
    "                                                })\n",
    "# View the data types of each column\n",
    "print(df1.dtypes)"
   ]
  },
  {
   "cell_type": "code",
   "execution_count": null,
   "id": "d7df05a0",
   "metadata": {},
   "outputs": [],
   "source": []
  },
  {
   "cell_type": "code",
   "execution_count": null,
   "id": "89983bdf",
   "metadata": {},
   "outputs": [],
   "source": []
  },
  {
   "cell_type": "code",
   "execution_count": null,
   "id": "95580490",
   "metadata": {},
   "outputs": [],
   "source": []
  },
  {
   "cell_type": "code",
   "execution_count": 58,
   "id": "4e8ca167",
   "metadata": {},
   "outputs": [
    {
     "name": "stdout",
     "output_type": "stream",
     "text": [
      "LoanID                     int64\n",
      "ForgivenessAmount        float64\n",
      "InitialApprovalAmount    float64\n",
      "CurrentApprovalAmount    float64\n",
      "UndisbursedAmount          int64\n",
      "LoanNumber                 int64\n",
      "SBAGuarantyPercentage      int64\n",
      "ForgivenessDate           object\n",
      "Forgivness_year          float64\n",
      "Forgiveness_month        float64\n",
      "Forgiveness_day          float64\n",
      "Forgiveness_quarter      float64\n",
      "ForgivenessPK              int64\n",
      "dtype: object\n"
     ]
    }
   ],
   "source": [
    "# Read only a few rows (e.g., first 5 rows) without specifying data types\n",
    "df_sample = pd.read_csv('C:/Users/18054/Desktop/DS4A/PPP Sources/CompleteLoan_Fact.csv', nrows=5)\n",
    "\n",
    "# Print the data types of each column\n",
    "print(df_sample.dtypes)"
   ]
  },
  {
   "cell_type": "code",
   "execution_count": null,
   "id": "5b720179",
   "metadata": {},
   "outputs": [],
   "source": []
  }
 ],
 "metadata": {
  "kernelspec": {
   "display_name": "Python 3 (ipykernel)",
   "language": "python",
   "name": "python3"
  },
  "language_info": {
   "codemirror_mode": {
    "name": "ipython",
    "version": 3
   },
   "file_extension": ".py",
   "mimetype": "text/x-python",
   "name": "python",
   "nbconvert_exporter": "python",
   "pygments_lexer": "ipython3",
   "version": "3.10.9"
  }
 },
 "nbformat": 4,
 "nbformat_minor": 5
}
